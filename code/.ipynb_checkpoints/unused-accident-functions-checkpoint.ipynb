{
 "cells": [
  {
   "cell_type": "markdown",
   "metadata": {},
   "source": [
    "## Some Injury Rate Calculations That We Probably Won't Use\n",
    "\n",
    "And now delinquent vs. nondelinquent injury rates by year and mine:"
   ]
  },
  {
   "cell_type": "code",
   "execution_count": 1,
   "metadata": {},
   "outputs": [],
   "source": [
    "def get_del_injury_rate(inj_data, hrs_data, rate_type):\n",
    "    inj_mine_year = pd.pivot_table(inj_data, index=['mine_id','cal_yr'], values='document_no', \n",
    "                                    columns=['delinquent'], aggfunc='count').my_flatten_cols()\n",
    "                                        \n",
    "    hrs_mine_year = hrs_data.groupby(['mine_id','calendar_yr'], as_index=False)['annual_hrs'].sum()\n",
    "    hrs_mine_year = hrs_mine_year.rename(index=str, columns={'calendar_yr': 'cal_yr'})\n",
    "    \n",
    "    hrs_inj_mine_year = pd.merge(hrs_mine_year, inj_mine_year, how='left', \n",
    "                                      on=['mine_id','cal_yr'], suffixes=('_m','_inj'))\n",
    "    hrs_inj_mine_year = hrs_inj_mine_year.rename(index=str, columns={0: 'non_inj',1:'del_inj'})\n",
    "    \n",
    "    hrs_inj_mine_year['earliest_date'] = hrs_inj_mine_year['mine_id'].map(earliest_series)\n",
    "    hrs_inj_mine_year['earliest_year'] = pd.DatetimeIndex(hrs_inj_mine_year['earliest_date']).year + 1    \n",
    "    hrs_inj_mine_year['rate_type'] = hrs_inj_mine_year.apply(find_rate_type, axis=1)\n",
    "    hrs_inj_mine_year['inj_rate'] = hrs_inj_mine_year.apply(calc_del_injury_rate, axis=1)\n",
    "    \n",
    "    return hrs_inj_mine_year"
   ]
  },
  {
   "cell_type": "markdown",
   "metadata": {},
   "source": [
    "Let's test that function:"
   ]
  },
  {
   "cell_type": "code",
   "execution_count": null,
   "metadata": {},
   "outputs": [],
   "source": [
    "print(get_del_injury_rate(inj_data, hrs_data, 'All mines').sample(10))"
   ]
  },
  {
   "cell_type": "markdown",
   "metadata": {},
   "source": [
    "The below function is similar to the above, but it takes an average of all years per mine. "
   ]
  },
  {
   "cell_type": "code",
   "execution_count": null,
   "metadata": {},
   "outputs": [],
   "source": [
    "def get_agg_injury_rate(inj_data, hrs_data, rate_type):\n",
    "    inj_mine_year = inj_data.groupby(['mine_id','cal_yr'], as_index=False)['document_no'].count()\n",
    "    inj_mine_year = inj_mine_year.rename(index=str, columns={'document_no': 'inj_cnt'})\n",
    "    \n",
    "    hrs_mine_year = hrs_data.groupby(['mine_id','calendar_yr'], as_index=False)['annual_hrs'].sum()\n",
    "    hrs_mine_year = hrs_mine_year.rename(index=str, columns={'calendar_yr': 'cal_yr'})\n",
    "    \n",
    "    hrs_inj_mine_year = pd.merge(hrs_mine_year, inj_mine_year, how='left', \n",
    "                                      on=['mine_id','cal_yr'], suffixes=('_m','_inj'))\n",
    "\n",
    "    hrs_inj_mine_year['inj_rate'] = hrs_inj_mine_year.apply(calc_injury_rate, axis=1)\n",
    "    \n",
    "    mine_aggs = {'annual_hrs':'sum',\n",
    "                 'inj_cnt':'sum',\n",
    "                 'inj_rate':'mean'}\n",
    "    \n",
    "    by_mine = hrs_inj_mine_year.groupby('mine_id').agg(mine_aggs).reset_index()\n",
    "        \n",
    "    \n",
    "    #by_del_type = by_del_type.rename(index=str, columns={'annual_hrs Delinquent':'hrs_del',\n",
    "    #                                                     'annual_hrs Became delinquent': 'hrs_b',\n",
    "    #                                                    'annual_hrs Non-delinquent':'hrs_non',\n",
    "    #                                                     'del_inj Delinquent':'inj_del',\n",
    "    #                                                    'non_inj Non-delinquent':'inj_non',\n",
    "    #                                                     'inj_rate Delinquent':'inj_rate_del',\n",
    "    #                                                    'inj_rate Became delinquent': 'inj_rate_became',\n",
    "    #                                                    'inj_rate Non-delinquent':'inj_rate_non'})\n",
    "    \n",
    "    return by_mine"
   ]
  },
  {
   "cell_type": "code",
   "execution_count": null,
   "metadata": {},
   "outputs": [],
   "source": [
    "print(get_agg_injury_rate(inj_data, hrs_data, 'All mines')\n",
    "      .sort_values('inj_cnt', ascending=False))"
   ]
  },
  {
   "cell_type": "code",
   "execution_count": null,
   "metadata": {},
   "outputs": [],
   "source": [
    "def get_agg_del_injury_rate(inj_data, hrs_data, rate_type):\n",
    "    inj_mine_year = pd.pivot_table(inj_data, index=['mine_id','cal_yr'], values='document_no', \n",
    "                                    columns=['delinquent'], aggfunc='count').my_flatten_cols()\n",
    "                                        \n",
    "    hrs_mine_year = hrs_data.groupby(['mine_id','calendar_yr'], as_index=False)['annual_hrs'].sum()\n",
    "    hrs_mine_year = hrs_mine_year.rename(index=str, columns={'calendar_yr': 'cal_yr'})\n",
    "    \n",
    "    hrs_inj_mine_year = pd.merge(hrs_mine_year, inj_mine_year, how='left', \n",
    "                                      on=['mine_id','cal_yr'], suffixes=('_m','_inj'))\n",
    "    hrs_inj_mine_year = hrs_inj_mine_year.rename(index=str, columns={0: 'non_inj',1:'del_inj'})\n",
    "        \n",
    "    hrs_inj_mine_year['earliest_date'] = hrs_inj_mine_year['mine_id'].map(earliest_series)\n",
    "    hrs_inj_mine_year['earliest_year'] = pd.DatetimeIndex(hrs_inj_mine_year['earliest_date']).year + 1    \n",
    "    hrs_inj_mine_year['rate_type'] = hrs_inj_mine_year.apply(find_rate_type, axis=1)\n",
    "    hrs_inj_mine_year['inj_rate'] = hrs_inj_mine_year.apply(calc_del_injury_rate, axis=1)\n",
    "        \n",
    "    by_del_type = hrs_inj_mine_year.pivot_table(hrs_inj_mine_year, index='mine_id', columns='rate_type',\n",
    "                                                            aggfunc={'annual_hrs':'sum',\n",
    "                                                                     'non_inj':'sum',\n",
    "                                                                     'del_inj':'sum',\n",
    "                                                                     'inj_rate':'mean'}).reset_index()\n",
    "    \n",
    "    \n",
    "    ##the rest of this is just cleaning up our columns\n",
    "    by_del_type.columns = [' '.join(col).strip() for col in by_del_type.columns.values]\n",
    "    by_del_type['inj_became'] = by_del_type['del_inj Became delinquent'] + by_del_type['non_inj Became delinquent']\n",
    "    \n",
    "    mine_inj_rates = get_agg_injury_rate(inj_data, hrs_data, 'All mines')\n",
    "    mine_inj_rates = mine_inj_rates[['mine_id','inj_rate']]\n",
    "    \n",
    "    by_del_type = pd.merge(by_del_type,mine_inj_rates, how='left', on='mine_id', suffixes=('_1','_2'))\n",
    "        \n",
    "    by_del_type = by_del_type[['mine_id','inj_rate','inj_rate Delinquent','inj_rate Became delinquent', 'inj_rate Non-delinquent',\n",
    "                               'del_inj Delinquent','inj_became','non_inj Non-delinquent',\n",
    "                               'annual_hrs Delinquent','annual_hrs Became delinquent','annual_hrs Non-delinquent']]\n",
    "    by_del_type = by_del_type.rename(index=str, columns={'annual_hrs Delinquent':'hrs_del',\n",
    "                                                         'annual_hrs Became delinquent': 'hrs_b',\n",
    "                                                        'annual_hrs Non-delinquent':'hrs_non',\n",
    "                                                         'del_inj Delinquent':'inj_del',\n",
    "                                                        'non_inj Non-delinquent':'inj_non',\n",
    "                                                         'inj_rate Delinquent':'inj_rate_del',\n",
    "                                                        'inj_rate Became delinquent': 'inj_rate_became',\n",
    "                                                        'inj_rate Non-delinquent':'inj_rate_non'})\n",
    "    \n",
    "    return by_del_type"
   ]
  },
  {
   "cell_type": "markdown",
   "metadata": {},
   "source": [
    "print(get_agg_del_injury_rate(inj_data, hrs_data, 'All mines').sample(20))"
   ]
  },
  {
   "cell_type": "markdown",
   "metadata": {},
   "source": [
    "### All Accidents"
   ]
  },
  {
   "cell_type": "code",
   "execution_count": null,
   "metadata": {},
   "outputs": [],
   "source": [
    "#all_mineyear_inj_rates = get_del_injury_rate(inj_data, hrs_data, 'All mines')\n",
    "#all_mineyear_inj_rates_del = combine_del_mine_data(all_mineyear_inj_rates)\n",
    "#all_mineyear_inj_rates_del.to_csv(data_dir + 'analysis/msha_INJURIES_MINE_YEAR_delinquency.csv')\n",
    "\n",
    "all_mine_inj_rates = get_agg_del_injury_rate(inj_data, hrs_data, 'All mines')\n",
    "all_mine_inj_rates_del = combine_del_mine_data(all_mine_inj_rates)\n",
    "all_mine_inj_rates_del.to_csv(data_dir + 'analysis/msha_INJURIES_MINE_delinquency.csv')"
   ]
  },
  {
   "cell_type": "markdown",
   "metadata": {},
   "source": [
    "### Justice Accidents\n",
    "Using the `get_agg_del_injury_rate()` function, we're going to filter out just accidents that happened at mines where one of the Justice controllers were controller at the time of the accident.\n",
    "\n",
    "We will then join that data to current mine information to see who currently owns the mine so we don't make any inappropriate inferences. We will also join on current status and current status date. \n",
    "\n",
    "So the correct way to talk about these data will be: In years when the Justice family was acting as controller over the mine, it experienced a delinquent injury rate of xxx and a nondelinquent injury rate of xxx. They may not currently be controller at this mine.\n",
    "\n",
    "### Aggregate injury rates by mine"
   ]
  },
  {
   "cell_type": "code",
   "execution_count": null,
   "metadata": {},
   "outputs": [],
   "source": []
  },
  {
   "cell_type": "code",
   "execution_count": null,
   "metadata": {},
   "outputs": [],
   "source": []
  }
 ],
 "metadata": {
  "kernelspec": {
   "display_name": "Python 3",
   "language": "python",
   "name": "python3"
  },
  "language_info": {
   "codemirror_mode": {
    "name": "ipython",
    "version": 3
   },
   "file_extension": ".py",
   "mimetype": "text/x-python",
   "name": "python",
   "nbconvert_exporter": "python",
   "pygments_lexer": "ipython3",
   "version": "3.7.0"
  }
 },
 "nbformat": 4,
 "nbformat_minor": 2
}
