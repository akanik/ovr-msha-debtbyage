{
 "cells": [
  {
   "cell_type": "code",
   "execution_count": 1,
   "metadata": {},
   "outputs": [],
   "source": [
    "data_dir = '../data/'"
   ]
  },
  {
   "cell_type": "code",
   "execution_count": null,
   "metadata": {},
   "outputs": [],
   "source": [
    "#Delinquency data\n",
    "delinquency_data = pd.read_csv(data_dir + 'debtbyage_20181205_REFINED.csv')\n",
    "delinquency_data['Delinquent Date'] =  pd.to_datetime(delinquency_data['Delinquent Date'], \n",
    "                                                      format='%m/%d/%Y')\n",
    "delinquency_data['year'] = pd.DatetimeIndex(delinquency_data['Delinquent Date']).year\n",
    "delinquency_data['month'] = pd.DatetimeIndex(delinquency_data['Delinquent Date']).month\n",
    "\n",
    "#because this delinquency data is fucked, we're going to remove everything that\n",
    "#isn't related to delinquencies and then do our catod and current joins\n",
    "delinquency_data = delinquency_data[['Assess Case Nbr','Mine ID','Violator ID','Violator Name', \n",
    "                                     'Violator Type','Age Category','Delinquent Date', \n",
    "                                     'Delinquent Type','Ending Balance','year','month']]\n",
    "\n",
    "delinquency_data = delinquency_data.rename(index=str, columns={'Assess Case Nbr':'ass_case_nbr',\n",
    "                                                              'Mine ID':'mine_id',\n",
    "                                                              'Violator ID':'violator_id',\n",
    "                                                              'Violator Name':'violator_nm',\n",
    "                                                              'Violator Type':'violator_type',\n",
    "                                                              'Age Category':'age_cateogry',\n",
    "                                                              'Delinquent Date':'delinquent_date',\n",
    "                                                              'Delinquent Type':'delinquent_type',\n",
    "                                                              'Ending Balance':'ending_balance',\n",
    "\n",
    "del_data_curr_join = "
   ]
  }
 ],
 "metadata": {
  "kernelspec": {
   "display_name": "Python 3",
   "language": "python",
   "name": "python3"
  },
  "language_info": {
   "codemirror_mode": {
    "name": "ipython",
    "version": 3
   },
   "file_extension": ".py",
   "mimetype": "text/x-python",
   "name": "python",
   "nbconvert_exporter": "python",
   "pygments_lexer": "ipython3",
   "version": "3.7.0"
  }
 },
 "nbformat": 4,
 "nbformat_minor": 2
}
