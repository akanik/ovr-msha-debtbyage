{
 "cells": [
  {
   "cell_type": "code",
   "execution_count": 1,
   "metadata": {},
   "outputs": [],
   "source": [
    "import pandas as pd\n",
    "import datetime \n",
    "\n",
    "data_dir = '../data/'\n",
    "now = datetime.datetime.now()\n",
    "\n",
    "def __my_flatten_cols(self, how=\"_\".join, reset_index=True):\n",
    "    how = (lambda iter: list(iter)[-1]) if how == \"last\" else how\n",
    "    self.columns = [how(filter(None, map(str, levels))) for levels in self.columns.values] \\\n",
    "                    if isinstance(self.columns, pd.MultiIndex) else self.columns\n",
    "    return self.reset_index() if reset_index else self\n",
    "pd.DataFrame.my_flatten_cols = __my_flatten_cols"
   ]
  },
  {
   "cell_type": "code",
   "execution_count": 2,
   "metadata": {},
   "outputs": [],
   "source": [
    "#Mine-specific data\n",
    "mine_data = pd.read_csv(data_dir + 'msha_mine_20190209-0.csv', escapechar='\\\\')\n",
    "       \n",
    "mine_rename = {'controller_id':'curr_ctrlr_id', 'controller_nm':'curr_ctrlr_nm', \n",
    "                'oper_id':'curr_oper_id', 'oper_nm':'curr_oper_nm'}\n",
    "                \n",
    "mine_data = mine_data.rename(index=str, columns=mine_rename)"
   ]
  },
  {
   "cell_type": "code",
   "execution_count": 3,
   "metadata": {},
   "outputs": [],
   "source": [
    "#Controller-Operation relationship data\n",
    "cntrlr_hist_data = pd.read_csv(data_dir + 'msha_controller_history_20190105-0.csv')\n",
    "cntrlr_hist_data['ctrlr_end_dt'] = cntrlr_hist_data['ctrlr_end_dt'].fillna('2019-01-01')\n",
    "cntrlr_hist_data['ctrlr_start_dt'] =  pd.to_datetime(cntrlr_hist_data['ctrlr_start_dt'], \n",
    "                                                      format='%Y-%m-%d')\n",
    "cntrlr_hist_data['ctrlr_end_dt'] =  pd.to_datetime(cntrlr_hist_data['ctrlr_end_dt'], \n",
    "                                                      format='%Y-%m-%d')"
   ]
  },
  {
   "cell_type": "code",
   "execution_count": 4,
   "metadata": {},
   "outputs": [],
   "source": [
    "def curr_mine_data_merge(mine_level_agg):\n",
    "    \n",
    "    keep_cols = ['mine_id','curr_mine_nm', 'c_m_ind', 'mine_type_cd', 'curr_stat_cd',\n",
    "           'curr_stat_dt', 'curr_ctrlr_id', 'curr_ctrlr_nm', 'curr_oper_id',\n",
    "           'curr_oper_nm', 'state_abbr', 'fips_cnty_nm', 'curr_ownr_beg_dt']\n",
    "    mine_data_refined = mine_data[keep_cols]\n",
    "    \n",
    "    agg_mine = pd.merge(mine_level_agg, mine_data_refined, \n",
    "                        how='left', on='mine_id', suffixes=('_a','_m'))\n",
    "    #agg_mine_del = pd.merge(agg_mine, mine_del_summary, \n",
    "    #                        how='left', on='mine_id', suffixes=('_am','_d'))\n",
    "\n",
    "    return agg_mine"
   ]
  },
  {
   "cell_type": "code",
   "execution_count": 8,
   "metadata": {},
   "outputs": [],
   "source": [
    "def catod_mine_data_merge(delinquency_data):\n",
    "    catod_del_merge = pd.merge(cntrlr_hist_data,delinquency_data,how='left',left_on='oper_id',right_on='violator_id')\n",
    "\n",
    "    #Filters for the filtering we'll be doing on catod_del_merge\n",
    "    gt_dates = catod_del_merge['delinquent_date'] >= catod_del_merge['ctrlr_start_dt']\n",
    "    lt_dates = catod_del_merge['delinquent_date'] <= catod_del_merge['ctrlr_end_dt']\n",
    "\n",
    "    #So here's where we drop the records where the dates don't match up\n",
    "    catod_filtered = catod_del_merge[(gt_dates) & (lt_dates)]\n",
    "\n",
    "    #We're getting rid of columns so that we can drop duplicates and get back to our original\n",
    "    #delinquency_data count\n",
    "    catod_reduced = catod_filtered[['oper_id','ctrlr_id','ctrlr_start_dt','ctrlr_end_dt','oper_nm',\n",
    "                                    'ass_case_nbr','curr_ctrlr_id','mine_id','delinquent_date',\n",
    "                                    'ending_balance']].drop_duplicates()\n",
    "\n",
    "    catod_reduced = catod_reduced.rename(index=str, columns={'oper_id':'catod_oper_id',\n",
    "                                                             'ctrlr_id':'catod_ctrlr_id',\n",
    "                                                             'ctrlr_start_dt':'catod_ctrlr_start_dt',\n",
    "                                                             'ctrlr_end_dt':'catod_ctrlr_end_dt',\n",
    "                                                             'oper_nm':'catod_oper_nm'})\n",
    "    return catod_reduced"
   ]
  },
  {
   "cell_type": "code",
   "execution_count": 12,
   "metadata": {},
   "outputs": [],
   "source": [
    "#Delinquency data\n",
    "delinquency_data = pd.read_csv(data_dir + 'debtbyage_20181205_REFINED.csv')\n",
    "delinquency_data['Delinquent Date'] =  pd.to_datetime(delinquency_data['Delinquent Date'], \n",
    "                                                      format='%m/%d/%Y')\n",
    "delinquency_data['year'] = pd.DatetimeIndex(delinquency_data['Delinquent Date']).year\n",
    "delinquency_data['month'] = pd.DatetimeIndex(delinquency_data['Delinquent Date']).month\n",
    "\n",
    "#because this delinquency data is fucked, we're going to remove everything that\n",
    "#isn't related to delinquencies and then do our catod and current joins\n",
    "delinquency_data = delinquency_data[['Assess Case Nbr','Mine ID','Violator ID','Violator Name', \n",
    "                                     'Violator Type','Controller ID','Controller Name','Age Category',\n",
    "                                     'Delinquent Date','Delinquent Type','Ending Balance','year','month']]\n",
    "\n",
    "delinquency_data = delinquency_data.rename(index=str, columns={'Assess Case Nbr':'ass_case_nbr',\n",
    "                                                              'Mine ID':'mine_id',\n",
    "                                                              'Violator ID':'violator_id',\n",
    "                                                              'Violator Name':'violator_nm',\n",
    "                                                              'Controller ID':'del_ctrlr_id',\n",
    "                                                              'Controller Name':'del_ctrlr_nm',\n",
    "                                                              'Violator Type':'violator_type',\n",
    "                                                              'Age Category':'age_cateogry',\n",
    "                                                              'Delinquent Date':'delinquent_date',\n",
    "                                                              'Delinquent Type':'delinquent_type',\n",
    "                                                              'Ending Balance':'ending_balance'})\n",
    "\n",
    "earliest_dict = delinquency_data.groupby('mine_id')['delinquent_date'].agg('min').to_dict()\n",
    "earliest_series = delinquency_data.groupby('mine_id')['delinquent_date'].agg('min')\n",
    "earliest_df = pd.DataFrame({'mine_id':earliest_series.index, 'earliest_date':earliest_series.values})  \n",
    "#Need to round earliest_date up to the next year so we can factor only years with full delinquency\n",
    "earliest_df['earliest_year'] = earliest_df['earliest_date'].map(lambda x: x.year+1)\n",
    "\n",
    "mine_del_summary = delinquency_data.groupby('mine_id').agg({'delinquent_date':['max','min'],\n",
    "                                                            'ending_balance':['sum','count']}).my_flatten_cols()\n",
    "mine_del_summary = mine_del_summary.rename(index=str, columns={'delinquent_date_max':'latest_del_date',\n",
    "                                           'delinquent_date_min':'earliest_del_date','ending_balance_sum':'total_due',\n",
    "                                           'ending_balance_count':'num_del_records'})\n",
    "\n",
    "del_data_curr_join = curr_mine_data_merge(delinquency_data)\n",
    "del_data_curr_catod_reduced = catod_mine_data_merge(del_data_curr_join)\n",
    "del_data_curr_catod = curr_mine_data_merge(del_data_curr_catod_reduced)"
   ]
  },
  {
   "cell_type": "code",
   "execution_count": 24,
   "metadata": {},
   "outputs": [
    {
     "name": "stdout",
     "output_type": "stream",
     "text": [
      "Index(['catod_oper_id', 'catod_ctrlr_id', 'catod_ctrlr_start_dt',\n",
      "       'catod_ctrlr_end_dt', 'catod_oper_nm', 'ass_case_nbr',\n",
      "       'curr_ctrlr_id_a', 'mine_id', 'delinquent_date', 'ending_balance',\n",
      "       'curr_mine_nm', 'c_m_ind', 'mine_type_cd', 'curr_stat_cd',\n",
      "       'curr_stat_dt', 'curr_ctrlr_id_m', 'curr_ctrlr_nm', 'curr_oper_id',\n",
      "       'curr_oper_nm', 'state_abbr', 'fips_cnty_nm', 'curr_ownr_beg_dt'],\n",
      "      dtype='object')\n",
      "4782488.26\n",
      "5647431.859999999\n"
     ]
    }
   ],
   "source": [
    "print(del_data_curr_catod.columns)\n",
    "justice_family_responsible = del_data_curr_catod[del_data_curr_catod['curr_ctrlr_id_a'].isin(['C04355','0091855'])]\n",
    "justice_family_originated = del_data_curr_catod[del_data_curr_catod['catod_ctrlr_id'].isin(['C04355','0091855'])]\n",
    "#justice_family_responsible.to_csv(data_dir + 'analysis/justice/20190325-justice-tester-curr-catod-v2.csv')\n",
    "print(justice_family_responsible['ending_balance'].sum())\n",
    "print(justice_family_originated['ending_balance'].sum())"
   ]
  },
  {
   "cell_type": "code",
   "execution_count": null,
   "metadata": {},
   "outputs": [],
   "source": []
  }
 ],
 "metadata": {
  "kernelspec": {
   "display_name": "Python 3",
   "language": "python",
   "name": "python3"
  },
  "language_info": {
   "codemirror_mode": {
    "name": "ipython",
    "version": 3
   },
   "file_extension": ".py",
   "mimetype": "text/x-python",
   "name": "python",
   "nbconvert_exporter": "python",
   "pygments_lexer": "ipython3",
   "version": "3.7.2"
  }
 },
 "nbformat": 4,
 "nbformat_minor": 2
}
