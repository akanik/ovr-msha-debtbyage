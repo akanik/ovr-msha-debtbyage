{
 "cells": [
  {
   "cell_type": "code",
   "execution_count": 2,
   "metadata": {},
   "outputs": [],
   "source": [
    "import pandas as pd\n",
    "import datetime \n",
    "from slugify import slugify\n",
    "import numpy as np\n",
    "\n",
    "data_dir = '../data/'\n",
    "now = datetime.datetime.now()\n",
    "\n",
    "def __my_flatten_cols(self, how=\"_\".join, reset_index=True):\n",
    "    how = (lambda iter: list(iter)[-1]) if how == \"last\" else how\n",
    "    self.columns = [how(filter(None, map(str, levels))) for levels in self.columns.values] \\\n",
    "                    if isinstance(self.columns, pd.MultiIndex) else self.columns\n",
    "    return self.reset_index() if reset_index else self\n",
    "pd.DataFrame.my_flatten_cols = __my_flatten_cols"
   ]
  },
  {
   "cell_type": "code",
   "execution_count": 3,
   "metadata": {},
   "outputs": [],
   "source": [
    "#Mine-specific data\n",
    "mine_data = pd.read_csv(data_dir + 'msha_mine_20190209-0.csv', escapechar='\\\\')\n",
    "       \n",
    "mine_rename = {'controller_id':'curr_ctrlr_id', 'controller_nm':'curr_ctrlr_nm', \n",
    "                'oper_id':'curr_oper_id', 'oper_nm':'curr_oper_nm'}\n",
    "                \n",
    "mine_data = mine_data.rename(index=str, columns=mine_rename)"
   ]
  },
  {
   "cell_type": "code",
   "execution_count": 16,
   "metadata": {},
   "outputs": [],
   "source": [
    "#Delinquency data\n",
    "delinquency_data = pd.read_csv(data_dir + 'debtbyage_20181205_REFINED.csv')\n",
    "delinquency_data['Delinquent Date'] =  pd.to_datetime(delinquency_data['Delinquent Date'], \n",
    "                                                      format='%m/%d/%Y')\n",
    "delinquency_data['year'] = pd.DatetimeIndex(delinquency_data['Delinquent Date']).year\n",
    "delinquency_data['month'] = pd.DatetimeIndex(delinquency_data['Delinquent Date']).month\n",
    "\n",
    "#because this delinquency data is fucked, we're going to remove everything that\n",
    "#isn't related to delinquencies and then do our catod and current joins\n",
    "delinquency_data = delinquency_data[['Assess Case Nbr','Mine ID','Violator ID','Violator Name', \n",
    "                                     'Violator Type','Controller Id','Controller Name','Age Category',\n",
    "                                     'Delinquent Date','Delinquent Type','Ending Balance','year','month']]\n",
    "\n",
    "delinquency_data = delinquency_data.rename(index=str, columns={'Assess Case Nbr':'ass_case_nbr',\n",
    "                                                              'Mine ID':'mine_id',\n",
    "                                                              'Violator ID':'violator_id',\n",
    "                                                              'Violator Name':'violator_nm',\n",
    "                                                              'Controller Id':'dba_ctrlr_id',\n",
    "                                                              'Controller Name':'dba_ctrlr_nm',\n",
    "                                                              'Violator Type':'violator_type',\n",
    "                                                              'Age Category':'age_cateogry',\n",
    "                                                              'Delinquent Date':'delinquent_date',\n",
    "                                                              'Delinquent Type':'delinquent_type',\n",
    "                                                              'Ending Balance':'ending_balance'})\n",
    "\n",
    "dba_ctrlr_list = delinquency_data[['ass_case_nbr','dba_ctrlr_id','dba_ctrlr_nm']].drop_duplicates()\n",
    "\n",
    "earliest_dict = delinquency_data.groupby('mine_id')['delinquent_date'].agg('min').to_dict()\n",
    "earliest_series = delinquency_data.groupby('mine_id')['delinquent_date'].agg('min')\n",
    "earliest_df = pd.DataFrame({'mine_id':earliest_series.index, 'earliest_date':earliest_series.values})  \n",
    "#Need to round earliest_date up to the next year so we can factor only years with full delinquency\n",
    "earliest_df['earliest_year'] = earliest_df['earliest_date'].map(lambda x: x.year+1)\n",
    "\n",
    "mine_del_summary = delinquency_data.groupby('mine_id').agg({'delinquent_date':['max','min'],\n",
    "                                                            'ending_balance':['sum','count']}).my_flatten_cols()\n",
    "mine_del_summary = mine_del_summary.rename(index=str, columns={'delinquent_date_max':'latest_del_date',\n",
    "                                                               'delinquent_date_min':'earliest_del_date',\n",
    "                                                               'ending_balance_sum':'total_due',\n",
    "                                                               'ending_balance_count':'num_del_records'})\n",
    "\n",
    "del_data_curr_join = curr_mine_data_merge(delinquency_data)\n",
    "del_data_curr_catod_reduced = catod_mine_data_merge(del_data_curr_join)\n",
    "del_data_curr_catod = curr_mine_data_merge(del_data_curr_catod_reduced)\n",
    "del_data_joined = del_data_curr_catod.merge(dba_ctrlr_list, \n",
    "                                            on='ass_case_nbr', how='left', suffixes=('_d','c'))\n",
    "del_data_joined = del_data_joined[['catod_oper_id', 'catod_ctrlr_id', 'catod_ctrlr_start_dt',\n",
    "       'catod_ctrlr_end_dt', 'catod_oper_nm', 'ass_case_nbr',\n",
    "       'mine_id', 'delinquent_date', 'ending_balance',\n",
    "       'curr_mine_nm', 'c_m_ind', 'mine_type_cd', 'curr_stat_cd',\n",
    "       'curr_stat_dt', 'curr_ctrlr_id_m', 'curr_ctrlr_nm', 'curr_oper_id',\n",
    "       'curr_oper_nm', 'state_abbr', 'fips_cnty_nm', 'curr_ownr_beg_dt',\n",
    "       'dba_ctrlr_id', 'dba_ctrlr_nm']]\n",
    "del_data_joined = del_data_joined.rename(index=str, columns={'curr_ctrlr_id_m':'curr_ctrlr_id'})\n",
    "\n",
    "\n"
   ]
  },
  {
   "cell_type": "code",
   "execution_count": 5,
   "metadata": {},
   "outputs": [],
   "source": [
    "#Controller-Operation relationship data\n",
    "cntrlr_hist_data = pd.read_csv(data_dir + 'msha_controller_history_20190105-0.csv')\n",
    "cntrlr_hist_data['ctrlr_end_dt'] = cntrlr_hist_data['ctrlr_end_dt'].fillna('2019-01-01')\n",
    "cntrlr_hist_data['ctrlr_start_dt'] =  pd.to_datetime(cntrlr_hist_data['ctrlr_start_dt'], \n",
    "                                                      format='%Y-%m-%d')\n",
    "cntrlr_hist_data['ctrlr_end_dt'] =  pd.to_datetime(cntrlr_hist_data['ctrlr_end_dt'], \n",
    "                                                      format='%Y-%m-%d')"
   ]
  },
  {
   "cell_type": "code",
   "execution_count": 6,
   "metadata": {},
   "outputs": [
    {
     "name": "stderr",
     "output_type": "stream",
     "text": [
      "/Users/akanik/.virtualenvs/code-FVmSw4CU/lib/python3.7/site-packages/IPython/core/interactiveshell.py:3049: DtypeWarning: Columns (0) have mixed types. Specify dtype option on import or set low_memory=False.\n",
      "  interactivity=interactivity, compiler=compiler, result=result)\n"
     ]
    }
   ],
   "source": [
    "ass_violations = pd.read_csv(data_dir + 'from_msha/AssessedViolations.txt', \n",
    "                         sep='|', \n",
    "                         encoding = 'ISO-8859-1',\n",
    "                         dtype={'ASSESS_CASE_NO': np.object_})\n",
    "\n",
    "ass_violations['DELINQUENT_DT'] = pd.to_datetime(ass_violations['DELINQUENT_DT'], \n",
    "                                                      format='%m/%d/%Y')"
   ]
  },
  {
   "cell_type": "code",
   "execution_count": 7,
   "metadata": {},
   "outputs": [
    {
     "name": "stderr",
     "output_type": "stream",
     "text": [
      "/Users/akanik/.virtualenvs/code-FVmSw4CU/lib/python3.7/site-packages/IPython/core/interactiveshell.py:3049: DtypeWarning: Columns (0,13,25,27,34,36,37,46,55,56,58) have mixed types. Specify dtype option on import or set low_memory=False.\n",
      "  interactivity=interactivity, compiler=compiler, result=result)\n"
     ]
    }
   ],
   "source": [
    "violations = pd.read_csv(data_dir + 'from_msha/Violations.txt', \n",
    "                         sep='|', \n",
    "                         encoding = 'ISO-8859-1')\n",
    "violations['VIOLATION_OCCUR_DT'] = pd.to_datetime(violations['VIOLATION_OCCUR_DT'], \n",
    "                                                      format='%m/%d/%Y')\n",
    "violations['VIOLATION_ISSUE_DT'] = pd.to_datetime(violations['VIOLATION_ISSUE_DT'], \n",
    "                                                      format='%m/%d/%Y')\n",
    "violations['delinquent_date'] = violations['MINE_ID'].map(earliest_series)\n",
    "violations['delinquent'] = np.where(violations['VIOLATION_ISSUE_DT'] > violations['delinquent_date'],1,0)"
   ]
  },
  {
   "cell_type": "code",
   "execution_count": 8,
   "metadata": {},
   "outputs": [
    {
     "name": "stderr",
     "output_type": "stream",
     "text": [
      "/Users/akanik/.virtualenvs/code-FVmSw4CU/lib/python3.7/site-packages/ipykernel_launcher.py:11: SettingWithCopyWarning: \n",
      "A value is trying to be set on a copy of a slice from a DataFrame.\n",
      "Try using .loc[row_indexer,col_indexer] = value instead\n",
      "\n",
      "See the caveats in the documentation: http://pandas.pydata.org/pandas-docs/stable/indexing.html#indexing-view-versus-copy\n",
      "  # This is added back by InteractiveShellApp.init_path()\n",
      "/Users/akanik/.virtualenvs/code-FVmSw4CU/lib/python3.7/site-packages/ipykernel_launcher.py:12: SettingWithCopyWarning: \n",
      "A value is trying to be set on a copy of a slice from a DataFrame.\n",
      "Try using .loc[row_indexer,col_indexer] = value instead\n",
      "\n",
      "See the caveats in the documentation: http://pandas.pydata.org/pandas-docs/stable/indexing.html#indexing-view-versus-copy\n",
      "  if sys.path[0] == '':\n"
     ]
    }
   ],
   "source": [
    "accidents = pd.read_csv(data_dir + 'from_msha/Accidents.txt', \n",
    "                         sep='|', \n",
    "                         encoding = 'ISO-8859-1')\n",
    "accidents['ACCIDENT_DT'] = pd.to_datetime(accidents['ACCIDENT_DT'], \n",
    "                                                      format='%m/%d/%Y')\n",
    "\n",
    "not_contractor = pd.isna(accidents['CONTRACTOR_ID'])\n",
    "not_natural = accidents['DEGREE_INJURY_CD'].isin(['01','02','03','04','05','06','07','10'])\n",
    "injuries = accidents.loc[(not_contractor) & (not_natural)]\n",
    "\n",
    "injuries['delinquent_date'] = injuries['MINE_ID'].map(earliest_series)\n",
    "injuries['delinquent'] = np.where(injuries['ACCIDENT_DT'] > injuries['delinquent_date'],1,0)"
   ]
  },
  {
   "cell_type": "code",
   "execution_count": 9,
   "metadata": {},
   "outputs": [],
   "source": [
    "hrs_data = pd.read_csv(data_dir + 'from_msha/MinesProdYearly.txt', \n",
    "                         sep='|', \n",
    "                         encoding = 'ISO-8859-1')"
   ]
  },
  {
   "cell_type": "code",
   "execution_count": 10,
   "metadata": {},
   "outputs": [],
   "source": [
    "#Create a unique list of currently delinquent mines\n",
    "def get_delinquent_mines():\n",
    "    return delinquency_data['mine_id'].unique()\n",
    "\n",
    "#Create a unique list of mines that have been delinquent since the year passed to this function\n",
    "def get_delinquent_since(year): \n",
    "    delinquent_since = earliest_df[earliest_df['earliest_year'] <= year]\n",
    "    return delinquent_since['mine_id'].unique()"
   ]
  },
  {
   "cell_type": "code",
   "execution_count": 11,
   "metadata": {},
   "outputs": [],
   "source": [
    "def curr_mine_data_merge(mine_level_agg):\n",
    "    \n",
    "    keep_cols = ['mine_id','curr_mine_nm', 'c_m_ind', 'mine_type_cd', 'curr_stat_cd',\n",
    "           'curr_stat_dt', 'curr_ctrlr_id', 'curr_ctrlr_nm', 'curr_oper_id',\n",
    "           'curr_oper_nm', 'state_abbr', 'fips_cnty_nm', 'curr_ownr_beg_dt']\n",
    "    mine_data_refined = mine_data[keep_cols]\n",
    "    \n",
    "    agg_mine = pd.merge(mine_level_agg, mine_data_refined, \n",
    "                        how='left', on='mine_id', suffixes=('_a','_m'))\n",
    "    #agg_mine_del = pd.merge(agg_mine, mine_del_summary, \n",
    "    #                        how='left', on='mine_id', suffixes=('_am','_d'))\n",
    "\n",
    "    return agg_mine"
   ]
  },
  {
   "cell_type": "code",
   "execution_count": 12,
   "metadata": {},
   "outputs": [],
   "source": [
    "def catod_mine_data_merge(delinquency_data):\n",
    "    catod_del_merge = pd.merge(cntrlr_hist_data,delinquency_data,how='left',left_on='oper_id',right_on='violator_id')\n",
    "\n",
    "    #Filters for the filtering we'll be doing on catod_del_merge\n",
    "    gt_dates = catod_del_merge['delinquent_date'] >= catod_del_merge['ctrlr_start_dt']\n",
    "    lt_dates = catod_del_merge['delinquent_date'] <= catod_del_merge['ctrlr_end_dt']\n",
    "\n",
    "    #So here's where we drop the records where the dates don't match up\n",
    "    catod_filtered = catod_del_merge[(gt_dates) & (lt_dates)]\n",
    "\n",
    "    #We're getting rid of columns so that we can drop duplicates and get back to our original\n",
    "    #delinquency_data count\n",
    "    catod_reduced = catod_filtered[['oper_id','ctrlr_id','ctrlr_start_dt','ctrlr_end_dt','oper_nm',\n",
    "                                    'ass_case_nbr','curr_ctrlr_id','mine_id','delinquent_date',\n",
    "                                    'ending_balance']].drop_duplicates()\n",
    "\n",
    "    catod_reduced = catod_reduced.rename(index=str, columns={'oper_id':'catod_oper_id',\n",
    "                                                             'ctrlr_id':'catod_ctrlr_id',\n",
    "                                                             'ctrlr_start_dt':'catod_ctrlr_start_dt',\n",
    "                                                             'ctrlr_end_dt':'catod_ctrlr_end_dt',\n",
    "                                                             'oper_nm':'catod_oper_nm'})\n",
    "    return catod_reduced"
   ]
  },
  {
   "cell_type": "code",
   "execution_count": 13,
   "metadata": {},
   "outputs": [],
   "source": [
    "def calc_injury_rate(row):    \n",
    "    if row['ANNUAL_HOURS'] < 2000:\n",
    "        return 0\n",
    "    else:\n",
    "        return (row['inj_cnt'] / (row['ANNUAL_HOURS'] / 2000)) * 100\n",
    "\n",
    "def get_range_injury_rate(inj_data, hrs_data, rate_type, year_list):\n",
    "\n",
    "    inj_year = inj_data.groupby('CAL_YR')['DOCUMENT_NO'].count().reset_index()\n",
    "    inj_year = inj_year.rename(index=str, columns={'DOCUMENT_NO': 'inj_cnt'})\n",
    "\n",
    "    hrs_year = hrs_data.groupby('CAL_YR', as_index=False)['ANNUAL_HOURS'].sum()\n",
    "\n",
    "    hrs_inj_year = pd.merge(hrs_year, inj_year, \n",
    "                                      how='left', on=['CAL_YR'], suffixes=('_m','_inj'))\n",
    "\n",
    "    hrs_inj_year['inj_rate'] = hrs_inj_year.apply(calc_injury_rate, axis=1)\n",
    "\n",
    "    avg_inj_rate = hrs_inj_year[hrs_inj_year['CAL_YR'].isin(year_list)]['inj_rate'].mean()\n",
    "    \n",
    "    return rate_type + ': ' + str(round(avg_inj_rate, 2))"
   ]
  },
  {
   "cell_type": "code",
   "execution_count": 14,
   "metadata": {},
   "outputs": [],
   "source": [
    "###### DEBT #########\n",
    "#Debt based on mines they currently own\n",
    "def get_curr_debt(ctrlr_id):\n",
    "    return del_data_joined[del_data_joined['curr_ctrlr_id'].isin(ctrlr_id)]['ending_balance'].sum()\n",
    "\n",
    "#Debt based on controller history controller at time of delinquency\n",
    "def get_orig_debt(ctrlr_id):\n",
    "    return del_data_joined[del_data_joined['catod_ctrlr_id'].isin(ctrlr_id)]['ending_balance'].sum()\n",
    "\n",
    "#Debt based on debt by age dataset controller column\n",
    "def get_dba_debt(ctrlr_id):\n",
    "    return del_data_joined[del_data_joined['dba_ctrlr_id'].isin(ctrlr_id)]['ending_balance'].sum()\n",
    "\n",
    "#Debt for which they are listed as controller in controller history and in DBA\n",
    "def get_orig_dba_debt(ctrlr_id):\n",
    "    orig_debt = del_data_joined['catod_ctrlr_id'].isin(ctrlr_id)\n",
    "    dba_debt = del_data_joined['dba_ctrlr_id'].isin(ctrlr_id)\n",
    "    return del_data_joined[(orig_debt) & (dba_debt)]['ending_balance'].sum()\n",
    "\n",
    "#Debt for which they are listed as controller in controller history but \n",
    "#NOT as controller in DBA\n",
    "def get_orig_no_dba_debt(ctrlr_id):\n",
    "    orig_debt = del_data_joined['catod_ctrlr_id'].isin(ctrlr_id)\n",
    "    dba_debt = del_data_joined['dba_ctrlr_id'].isin(ctrlr_id)\n",
    "    return del_data_joined[(orig_debt) & (~dba_debt)]['ending_balance'].sum()\n",
    "\n",
    "#Debt for which they are NOT listed as controller in controller history but \n",
    "#ARE listed as controller in DBA\n",
    "def get_no_orig_dba_debt(ctrlr_id):\n",
    "    orig_debt = del_data_joined['catod_ctrlr_id'].isin(ctrlr_id)\n",
    "    dba_debt = del_data_joined['dba_ctrlr_id'].isin(ctrlr_id)\n",
    "    return del_data_joined[(~orig_debt) & (dba_debt)]['ending_balance'].sum()\n",
    "\n",
    "\n",
    "\n",
    "###### MINES #########\n",
    "#Mine count based on mines they currently own\n",
    "def get_curr_mine_count(ctrlr_id):\n",
    "    return del_data_joined[del_data_joined['curr_ctrlr_id'].isin(ctrlr_id)]['mine_id'].nunique()\n",
    "\n",
    "#Mine count based on controller history controller at time of delinquency\n",
    "def get_orig_mine_count(ctrlr_id):\n",
    "    return del_data_joined[del_data_joined['catod_ctrlr_id'].isin(ctrlr_id)]['mine_id'].nunique()\n",
    "\n",
    "#Mine count based on debt by age dataset controller column\n",
    "def get_dba_mine_count(ctrlr_id):\n",
    "    return del_data_joined[del_data_joined['dba_ctrlr_id'].isin(ctrlr_id)]['mine_id'].nunique()\n",
    "\n",
    "#Mine count for which they are listed as controller in controller history but \n",
    "#NOT as controller in DBA\n",
    "def get_orig_no_dba_mine_count(ctrlr_id):\n",
    "    orig_mines = del_data_joined['catod_ctrlr_id'].isin(ctrlr_id)\n",
    "    dba_mines = del_data_joined['dba_ctrlr_id'].isin(ctrlr_id)\n",
    "    return del_data_joined[(orig_mines) & (~dba_mines)]['mine_id'].nunique()\n",
    "\n",
    "\n",
    "\n",
    "###### RECORDS #########\n",
    "#Delinquency record count based on mines they currently own\n",
    "def get_curr_record_count(ctrlr_id):\n",
    "    return del_data_joined[del_data_joined['curr_ctrlr_id'].isin(ctrlr_id)]['ass_case_nbr'].nunique()\n",
    "\n",
    "#Delinquency record count based on controller history controller at time of delinquency\n",
    "def get_orig_record_count(ctrlr_id):\n",
    "    return del_data_joined[del_data_joined['catod_ctrlr_id'].isin(ctrlr_id)]['ass_case_nbr'].nunique()\n",
    "\n",
    "#Delinquency record count based on debt by age dataset controller column\n",
    "def get_dba_record_count(ctrlr_id):\n",
    "    return del_data_joined[del_data_joined['dba_ctrlr_id'].isin(ctrlr_id)]['ass_case_nbr'].nunique()\n",
    "\n",
    "#Delinquency records list based on debt by age dataset controller column\n",
    "def get_dba_records(ctrlr_id):\n",
    "    return del_data_joined[del_data_joined['dba_ctrlr_id'].isin(ctrlr_id)]['ass_case_nbr'].unique()\n",
    "\n",
    "\n",
    "###### DATA #########\n",
    "def get_curr_data(ctrlr_id):\n",
    "    return del_data_joined[del_data_joined['curr_ctrlr_id'].isin(ctrlr_id)]\n",
    "\n",
    "#Delinquency data based for which they are listed as controller in DBA\n",
    "def get_dba_data(ctrlr_id):\n",
    "    return del_data_joined[del_data_joined['dba_ctrlr_id'].isin(ctrlr_id)]\n",
    "\n",
    "#Delinquency data for which they are listed as controller in controller history and in DBA\n",
    "def get_orig_dba_data(ctrlr_id):\n",
    "    orig_debt = del_data_joined['catod_ctrlr_id'].isin(ctrlr_id)\n",
    "    dba_debt = del_data_joined['dba_ctrlr_id'].isin(ctrlr_id)\n",
    "    return del_data_joined[(orig_debt) & (dba_debt)]\n",
    "\n",
    "#Delinquency data for which they are listed as controller in controller history but \n",
    "#NOT as controller in DBA\n",
    "def get_orig_no_dba_data(ctrlr_id):\n",
    "    orig_mines = del_data_joined['catod_ctrlr_id'].isin(ctrlr_id)\n",
    "    dba_mines = del_data_joined['dba_ctrlr_id'].isin(ctrlr_id)\n",
    "    return del_data_joined[(orig_mines) & (~dba_mines)]"
   ]
  },
  {
   "cell_type": "markdown",
   "metadata": {},
   "source": [
    "## Mines Justice Group are responsible for according to DBA"
   ]
  },
  {
   "cell_type": "code",
   "execution_count": 44,
   "metadata": {},
   "outputs": [
    {
     "name": "stdout",
     "output_type": "stream",
     "text": [
      "71\n"
     ]
    }
   ],
   "source": [
    "justice_dba_mine_count = get_dba_mine_count(['0091855','C04355'])\n",
    "print(justice_dba_mine_count)"
   ]
  },
  {
   "cell_type": "code",
   "execution_count": 518,
   "metadata": {},
   "outputs": [],
   "source": [
    "justice_dba_data = get_dba_data(['0091855','C04355'])\n",
    "justice_dba_by_mine = justice_dba_data.groupby('mine_id', as_index=False)['ending_balance'].sum()\n",
    "justice_dba_by_mine_combo = curr_mine_data_merge(justice_dba_by_mine)\n",
    "justice_dba_by_mine_combo.to_csv(data_dir + 'analysis/justice/justice-dba-by-mine.csv')"
   ]
  },
  {
   "cell_type": "markdown",
   "metadata": {},
   "source": [
    "## Amount Justice Group are responsible for according to DBA"
   ]
  },
  {
   "cell_type": "code",
   "execution_count": 203,
   "metadata": {},
   "outputs": [
    {
     "name": "stdout",
     "output_type": "stream",
     "text": [
      "Total DBA debt: $45,098,251.75\n",
      "Justice Group: $4,303,377.27\n",
      "Justice Jrs: $3,785,194.85\n",
      "Justice Sr: $518,182.42\n"
     ]
    }
   ],
   "source": [
    "total_dba_debt = delinquency_data['ending_balance'].sum()\n",
    "justice_dba_debt = get_dba_debt(['0091855','C04355'])\n",
    "justice_jrs_dba_debt = get_dba_debt(['0091855'])\n",
    "justice_sr_dba_debt = get_dba_debt(['C04355'])\n",
    "\n",
    "print('Total DBA debt: ${:,.2f}'.format(total_dba_debt))\n",
    "print('Justice Group: ${:,.2f}'.format(justice_dba_debt))\n",
    "print('Justice Jrs: ${:,.2f}'.format(justice_jrs_dba_debt))\n",
    "print('Justice Sr: ${:,.2f}'.format(justice_sr_dba_debt))"
   ]
  },
  {
   "cell_type": "markdown",
   "metadata": {},
   "source": [
    "## Mines Justice Group was controller at when they received delinquencies"
   ]
  },
  {
   "cell_type": "code",
   "execution_count": 46,
   "metadata": {},
   "outputs": [
    {
     "name": "stdout",
     "output_type": "stream",
     "text": [
      "83\n"
     ]
    }
   ],
   "source": [
    "justice_orig_mine_count = get_orig_mine_count(['0091855','C04355'])\n",
    "print(justice_orig_mine_count)"
   ]
  },
  {
   "cell_type": "markdown",
   "metadata": {},
   "source": [
    "## Amount of current delinquencies from mines where Justice Group was controller at time of delinquency"
   ]
  },
  {
   "cell_type": "code",
   "execution_count": 38,
   "metadata": {},
   "outputs": [
    {
     "name": "stdout",
     "output_type": "stream",
     "text": [
      "$5,647,431.86\n"
     ]
    }
   ],
   "source": [
    "justice_orig_debt = get_orig_debt(['0091855','C04355'])\n",
    "print('${:,.2f}'.format(justice_orig_debt))"
   ]
  },
  {
   "cell_type": "markdown",
   "metadata": {},
   "source": [
    "## Which specific controllers did the Justice Group Originated/DBA debt come from?"
   ]
  },
  {
   "cell_type": "code",
   "execution_count": 184,
   "metadata": {},
   "outputs": [
    {
     "name": "stdout",
     "output_type": "stream",
     "text": [
      "Index(['catod_oper_id', 'catod_ctrlr_id', 'catod_ctrlr_start_dt',\n",
      "       'catod_ctrlr_end_dt', 'catod_oper_nm', 'ass_case_nbr', 'mine_id',\n",
      "       'delinquent_date', 'ending_balance', 'curr_mine_nm', 'c_m_ind',\n",
      "       'mine_type_cd', 'curr_stat_cd', 'curr_stat_dt', 'curr_ctrlr_id',\n",
      "       'curr_ctrlr_nm', 'curr_oper_id', 'curr_oper_nm', 'state_abbr',\n",
      "       'fips_cnty_nm', 'curr_ownr_beg_dt', 'dba_ctrlr_id', 'dba_ctrlr_nm'],\n",
      "      dtype='object')\n",
      "catod_ctrlr_id\n",
      "0091855     761183.07\n",
      "C04355     3541852.19\n",
      "Name: ending_balance, dtype: float64\n"
     ]
    }
   ],
   "source": [
    "justice_orig_dba_data = get_orig_dba_data(['0091855','C04355'])\n",
    "print(justice_orig_dba_data.columns)\n",
    "print(justice_orig_dba_data.groupby('catod_ctrlr_id')['ending_balance'].sum())"
   ]
  },
  {
   "cell_type": "markdown",
   "metadata": {},
   "source": [
    "## Amount of current delinquencies that both originated with and is still assigned to the Justice Group"
   ]
  },
  {
   "cell_type": "code",
   "execution_count": 180,
   "metadata": {},
   "outputs": [
    {
     "name": "stdout",
     "output_type": "stream",
     "text": [
      "$4,303,035.26\n"
     ]
    }
   ],
   "source": [
    "justice_orig_dba_debt = get_orig_dba_debt(['0091855','C04355'])\n",
    "print('${:,.2f}'.format(justice_orig_dba_debt))"
   ]
  },
  {
   "cell_type": "markdown",
   "metadata": {},
   "source": [
    "## Mines that Justice Group was responsible for at time of delinquency but is NOT responsible for in the DBA dataset"
   ]
  },
  {
   "cell_type": "code",
   "execution_count": 40,
   "metadata": {},
   "outputs": [
    {
     "name": "stdout",
     "output_type": "stream",
     "text": [
      "12\n"
     ]
    }
   ],
   "source": [
    "justice_orig_no_dba_mine_count = get_orig_no_dba_mine_count(['0091855','C04355'])\n",
    "print(justice_orig_no_dba_mine_count)"
   ]
  },
  {
   "cell_type": "markdown",
   "metadata": {},
   "source": [
    "## Amount that Justice Group was responsible for originating but for which they are NOT being held responsible in DBA"
   ]
  },
  {
   "cell_type": "code",
   "execution_count": 41,
   "metadata": {},
   "outputs": [
    {
     "name": "stdout",
     "output_type": "stream",
     "text": [
      "$1,344,396.60\n"
     ]
    }
   ],
   "source": [
    "justice_orig_no_dba_debt = get_orig_no_dba_debt(['0091855','C04355'])\n",
    "print('${:,.2f}'.format(justice_orig_no_dba_debt))"
   ]
  },
  {
   "cell_type": "markdown",
   "metadata": {},
   "source": [
    "## Which mines are they no longer being held responsible for? Do they still own them now?"
   ]
  },
  {
   "cell_type": "code",
   "execution_count": 189,
   "metadata": {},
   "outputs": [
    {
     "name": "stdout",
     "output_type": "stream",
     "text": [
      "              ending_balance  mine_id\n",
      "dba_ctrlr_id                         \n",
      "0085759           1248521.07        7\n",
      "0091855           3023669.77       56\n"
     ]
    }
   ],
   "source": [
    "justice_orig_no_dba_data = get_orig_no_dba_data(['C04355'])\n",
    "\n",
    "justice_orig_no_dba_mines_by_ctrlr = justice_orig_no_dba_data.groupby('dba_ctrlr_id').agg({'ending_balance':'sum',\n",
    "                                                                                          'mine_id':'nunique'})\n",
    "\n",
    "justice_orig_no_dba_mines_curr_join = curr_mine_data_merge(justice_orig_no_dba_data)\n",
    "\n",
    "print(justice_orig_no_dba_mines_by_ctrlr)"
   ]
  },
  {
   "cell_type": "markdown",
   "metadata": {},
   "source": [
    "## Which mines do the Justices owe the most at?"
   ]
  },
  {
   "cell_type": "code",
   "execution_count": 501,
   "metadata": {},
   "outputs": [
    {
     "name": "stdout",
     "output_type": "stream",
     "text": [
      "Index(['catod_oper_id', 'catod_ctrlr_id', 'catod_ctrlr_start_dt',\n",
      "       'catod_ctrlr_end_dt', 'catod_oper_nm', 'ass_case_nbr', 'mine_id',\n",
      "       'delinquent_date', 'ending_balance', 'curr_mine_nm', 'c_m_ind',\n",
      "       'mine_type_cd', 'curr_stat_cd', 'curr_stat_dt', 'curr_ctrlr_id',\n",
      "       'curr_ctrlr_nm', 'curr_oper_id', 'curr_oper_nm', 'state_abbr',\n",
      "       'fips_cnty_nm', 'curr_ownr_beg_dt', 'dba_ctrlr_id', 'dba_ctrlr_nm'],\n",
      "      dtype='object')\n"
     ]
    }
   ],
   "source": [
    "print(get_dba_data(['0091855','C04355']).columns)"
   ]
  },
  {
   "cell_type": "code",
   "execution_count": 506,
   "metadata": {},
   "outputs": [
    {
     "name": "stdout",
     "output_type": "stream",
     "text": [
      "     mine_id                   curr_mine_nm state_abbr curr_ctrlr_id  \\\n",
      "0  1518015.0  Bent Mountain Surface Mine #2         KY       0142161   \n",
      "5  4407160.0           Preacher Creek Strip         VA       0091855   \n",
      "1  1518947.0     Bull Creek Surface Mine #1         KY       0142161   \n",
      "7  4609135.0          Coal Mountain Loadout         WV        C15876   \n",
      "3  4406746.0                  Prep Plant #1         VA        C13088   \n",
      "2  4406544.0          AG4 Sawmill Hollow #2         VA       0142161   \n",
      "6  4604734.0                Orchard Loadout         WV       0091855   \n",
      "4  4407115.0                       Baden #1         VA       0091855   \n",
      "\n",
      "   ending_balance  \n",
      "0        21441.54  \n",
      "5        13953.90  \n",
      "1         3970.91  \n",
      "7         3370.97  \n",
      "3         2751.90  \n",
      "2         2434.51  \n",
      "6         2281.71  \n",
      "4          716.54  \n"
     ]
    }
   ],
   "source": [
    "justice_dba_data = get_dba_data(['0091855','C04355'])\n",
    "justice_dba_data = justice_dba_data[justice_dba_data['curr_stat_cd'] == 'Active']\n",
    "justice_dba_by_mine = justice_dba_data.groupby(['mine_id','curr_mine_nm','state_abbr','curr_ctrlr_id'],as_index=False)['ending_balance'].sum().sort_values('ending_balance',ascending=False)\n",
    "print(justice_dba_by_mine)"
   ]
  },
  {
   "cell_type": "markdown",
   "metadata": {},
   "source": [
    "## Scripting violation database"
   ]
  },
  {
   "cell_type": "code",
   "execution_count": 365,
   "metadata": {},
   "outputs": [],
   "source": [
    "def get_dba_ctrlr_violations(ctrlr_id):\n",
    "    dba_record_list = get_dba_records(ctrlr_id)\n",
    "    \n",
    "    dba_records = del_data_joined[del_data_joined['ass_case_nbr'].isin(dba_record_list)]\n",
    "    dba_ass_viol = ass_violations[ass_violations['ASSESS_CASE_NO'].isin(dba_record_list)]\n",
    "    \n",
    "    ass_viol_grouped = dba_ass_viol.groupby(['ASSESS_CASE_NO','DELINQUENT_DT']).agg({'PROPOSED_PENALTY_AMT':'sum',\n",
    "                                                                                     'CURRENT_ASSESSMENT_AMT':'sum',\n",
    "                                                                                     'MINEACT_INTEREST_AMT':'sum',\n",
    "                                                                                     'EXLATE_INTEREST_AMT':'sum',\n",
    "                                                                                     'PAID_PROPOSED_PENALTY_AMT':'sum',\n",
    "                                                                                     'PAID_MINEACT_INTEREST_AMT':'sum',\n",
    "                                                                                     'PAID_EXLATE_INTEREST_AMT':'sum',}).reset_index()\n",
    "    \n",
    "    dba_viol_join = dba_records.merge(ass_viol_grouped,\n",
    "                                      how='left',\n",
    "                                      left_on=['ass_case_nbr','delinquent_date'],\n",
    "                                      right_on=['ASSESS_CASE_NO','DELINQUENT_DT'])\n",
    "    \n",
    "    return dba_viol_join\n",
    "    \n",
    "def print_dba_ctrlr_violations_summary(dba_viol_join, ctrlr_name):\n",
    "    \n",
    "    total_proposed = dba_viol_join.PROPOSED_PENALTY_AMT.sum()\n",
    "    total_ass_amt = dba_viol_join.CURRENT_ASSESSMENT_AMT.sum()\n",
    "    total_mineact_amt = dba_viol_join.MINEACT_INTEREST_AMT.sum()\n",
    "    total_exlate_amt = dba_viol_join.EXLATE_INTEREST_AMT.sum()\n",
    "    total_penalty_paid = dba_viol_join.PAID_PROPOSED_PENALTY_AMT.sum()\n",
    "    total_mineact_paid = dba_viol_join.PAID_MINEACT_INTEREST_AMT.sum()\n",
    "    total_exlate_paid = dba_viol_join.PAID_EXLATE_INTEREST_AMT.sum()\n",
    "    total_ending_balance = dba_viol_join.ending_balance.sum()\n",
    "\n",
    "    total_charges = total_ass_amt + total_mineact_amt + total_exlate_amt\n",
    "    total_paid = total_penalty_paid + total_mineact_paid + total_exlate_paid\n",
    "    total_owed = total_charges - total_paid\n",
    "    dba_viol_diff = total_ending_balance - total_owed\n",
    "    \n",
    "    print('***According to MSHA Violations records***')\n",
    "    print(ctrlr_name + ' has been charged: ' + '${:,.2f}'.format(total_charges))\n",
    "    print(ctrlr_name + ' has paid on those charges: ' + '${:,.2f}'.format(total_paid))\n",
    "    print(ctrlr_name + ' still owes: ' + '${:,.2f}'.format(total_owed))\n",
    "    print('')\n",
    "    print('The Debt by Age data say ' + ctrlr_name + ' owes: ' + '${:,.2f}'.format(total_ending_balance))\n",
    "    print('The violations data say ' + ctrlr_name + ' owes: ' + '${:,.2f}'.format(total_owed))\n",
    "    if dba_viol_diff > 0:\n",
    "        print('The difference (' + '${:,.2f}'.format(dba_viol_diff) + \n",
    "              ') could be the result of them paying off some of their debts between Dec. 2018 and now.')\n",
    "    elif dba_viol_diff < 0:\n",
    "        print('The difference (' + '${:,.2f}'.format(dba_viol_diff) + \n",
    "              ') could be the result of them not paying any of their debts between Dec. 2018 and now.')\n",
    "    "
   ]
  },
  {
   "cell_type": "markdown",
   "metadata": {},
   "source": [
    "## Amount of debt paid down by Justice Group according to MSHA violations database and the difference between violations database totals and BDA totals\n"
   ]
  },
  {
   "cell_type": "code",
   "execution_count": 366,
   "metadata": {},
   "outputs": [
    {
     "name": "stdout",
     "output_type": "stream",
     "text": [
      "***According to MSHA Violations records***\n",
      "Justice Group has been charged: $4,738,454.02\n",
      "Justice Group has paid on those charges: $475,320.23\n",
      "Justice Group still owes: $4,263,133.79\n",
      "\n",
      "The Debt by Age data say Justice Group owes: $4,303,377.27\n",
      "The violations data say Justice Group owes: $4,263,133.79\n",
      "The difference ($40,243.48) could be the result of them paying off some of their debts between Dec. 2018 and now.\n"
     ]
    }
   ],
   "source": [
    "justice_violations = get_dba_ctrlr_violations(['0091855','C04355'])\n",
    "print_dba_ctrlr_violations_summary(justice_violations, 'Justice Group')"
   ]
  },
  {
   "cell_type": "markdown",
   "metadata": {},
   "source": [
    "The above \"still owed\" amount is different than the ending balance we find in our DBA. Upon doing a manual comparison of violation data and DBA data, it appears that there are some assessment case number / delinquent date combos that appear in the DBA data that do not appear in the violations data. \n",
    "\n",
    "I can think of a few reasons for this:\n",
    "- the dates were slightly off and thus they did not merge properly\n",
    "- the debts were paid off since we received our December 2018 DBA data\n",
    "\n",
    "I hand checked a couple of the assessment case numbers that didn't match and they don't appear to be in the violations dataset. So I'm leaning toward my second theory on this one.\n",
    "\n",
    "So I think we should determine the difference between the DBA ending_balance and the violations \"still owes\" and mention that the records indicate that they might have paid these violations off completely."
   ]
  },
  {
   "cell_type": "markdown",
   "metadata": {},
   "source": [
    "## Jeffrey Hoops, Revelation Energy Violations DBA analysis"
   ]
  },
  {
   "cell_type": "code",
   "execution_count": 517,
   "metadata": {},
   "outputs": [
    {
     "name": "stdout",
     "output_type": "stream",
     "text": [
      "50\n",
      "***According to MSHA Violations records***\n",
      "Jeffrey Hoops, Revelation Energy has been charged: $1,047,150.32\n",
      "Jeffrey Hoops, Revelation Energy has paid on those charges: $93,202.65\n",
      "Jeffrey Hoops, Revelation Energy still owes: $953,947.67\n",
      "\n",
      "The Debt by Age data say Jeffrey Hoops, Revelation Energy owes: $926,471.69\n",
      "The violations data say Jeffrey Hoops, Revelation Energy owes: $953,947.67\n",
      "The difference ($-27,475.98) could be the result of them not paying any of their debts between Dec. 2018 and now.\n"
     ]
    }
   ],
   "source": [
    "\n",
    "hoops_data = get_dba_data(['C15863'])\n",
    "print(hoops_data.mine_id.nunique())\n",
    "#hoops_data['del_year'] = pd.DatetimeIndex(hoops_data['delinquent_date']).year\n",
    "#print(hoops_data.groupby('del_year')['ass_case_nbr'].nunique())\n",
    "hoops_violations = get_dba_ctrlr_violations(['C15863'])\n",
    "print_dba_ctrlr_violations_summary(hoops_violations, 'Jeffrey Hoops, Revelation Energy')"
   ]
  },
  {
   "cell_type": "markdown",
   "metadata": {},
   "source": [
    "## Virginia Conservation Legacy Fund Violations DBA analysis"
   ]
  },
  {
   "cell_type": "code",
   "execution_count": 368,
   "metadata": {},
   "outputs": [
    {
     "name": "stdout",
     "output_type": "stream",
     "text": [
      "***According to MSHA Violations records***\n",
      "Virginia Conservation Legacy Fund has been charged: $735,316.32\n",
      "Virginia Conservation Legacy Fund has paid on those charges: $0.00\n",
      "Virginia Conservation Legacy Fund still owes: $735,316.32\n",
      "\n",
      "The Debt by Age data say Virginia Conservation Legacy Fund owes: $736,348.94\n",
      "The violations data say Virginia Conservation Legacy Fund owes: $735,316.32\n",
      "The difference ($1,032.62) could be the result of them paying off some of their debts between Dec. 2018 and now.\n"
     ]
    }
   ],
   "source": [
    "vclf_violations = get_dba_ctrlr_violations(['0121101'])\n",
    "print_dba_ctrlr_violations_summary(vclf_violations, 'Virginia Conservation Legacy Fund')"
   ]
  },
  {
   "cell_type": "markdown",
   "metadata": {},
   "source": [
    "## James H Booth Violations DBA analysis"
   ]
  },
  {
   "cell_type": "code",
   "execution_count": 369,
   "metadata": {},
   "outputs": [
    {
     "name": "stdout",
     "output_type": "stream",
     "text": [
      "***According to MSHA Violations records***\n",
      "James H Booth has been charged: $1,101,490.28\n",
      "James H Booth has paid on those charges: $588,075.21\n",
      "James H Booth still owes: $513,415.07\n",
      "\n",
      "The Debt by Age data say James H Booth owes: $582,219.63\n",
      "The violations data say James H Booth owes: $513,415.07\n",
      "The difference ($68,804.56) could be the result of them paying off some of their debts between Dec. 2018 and now.\n"
     ]
    }
   ],
   "source": [
    "booth_violations = get_dba_ctrlr_violations(['C11194'])\n",
    "print_dba_ctrlr_violations_summary(booth_violations, 'James H Booth')"
   ]
  },
  {
   "cell_type": "markdown",
   "metadata": {},
   "source": [
    "## Top debtors\n",
    "- We'll want money owed according to DBA\n",
    "- Mine count according to DBA\n",
    "- Amount paid down according to MSHA violations db"
   ]
  },
  {
   "cell_type": "code",
   "execution_count": 563,
   "metadata": {},
   "outputs": [
    {
     "name": "stdout",
     "output_type": "stream",
     "text": [
      "2436\n",
      "     dba_ctrlr_id                                  dba_ctrlr_nm  \\\n",
      "0         0091855      James C  Justice lll; Jillian L  Justice   \n",
      "1         0085759                                    Mechel Oao   \n",
      "2         0086815           Gary J  Ronald; Archibald C  Parker   \n",
      "3          C15863                              Jeffery A  Hoops   \n",
      "4          C05558                                    Carl  Kirk   \n",
      "5         0121101      Virginia Conservation Legacy Fund (VCLF)   \n",
      "6         0046489                                Timothy R  Dye   \n",
      "7          C11194                                James H  Booth   \n",
      "8          C00085                            Richard H  Abraham   \n",
      "9          C04355                           James C  Justice II   \n",
      "10         C15593                             CraKol Energy LLC   \n",
      "11        0069491                               Jody D  Puckett   \n",
      "12        0104813                     Estate of Ernest E Varney   \n",
      "13        0130321                      ERP Compliant Fuels, LLC   \n",
      "14        0073073                             Brandy M  Horvath   \n",
      "15         C11000                               James L  Bevins   \n",
      "16         C09518                             Jessica R  Lester   \n",
      "17         C02874                              David M  Maynard   \n",
      "18        0047609                            Broe Companies Inc   \n",
      "19        0059549    Ricky J  Palasota Sr; Ricky J  Palasota Jr   \n",
      "20        0110201                              Kenneth R  Vance   \n",
      "21        0073731                              Jimmy D  Tackett   \n",
      "22        0057149             Rodney  Bentley; Ted  Thornsberry   \n",
      "23        0042777                               Timothy L  Webb   \n",
      "24         C11537                              Robert B  Hughes   \n",
      "25        0071711                              Veris Gold Corp.   \n",
      "26         C13803                              Randy  Gilkerson   \n",
      "27        0076513  Plains Capital Equity LLC; William H  Murphy   \n",
      "28        0043383                                James T  Tinin   \n",
      "29        0078853                                 Joshua  Clark   \n",
      "...           ...                                           ...   \n",
      "2406      0133341                         Daniel  McAffee et al   \n",
      "2407       M10904                            Steven M.  Dilbeck   \n",
      "2408      0110643                                Curtis  Schatz   \n",
      "2409      0056109             Wesley J  Miller; Cindy A  Miller   \n",
      "2410       M05917                                Justin  Higman   \n",
      "2411      0075151                             Alfredo S  Garcia   \n",
      "2412      0045969                           Gregory H.  Causley   \n",
      "2413       M10266                           Carmeuse Holding SA   \n",
      "2414      0108541                                Lance  Despain   \n",
      "2415       M38350                                Bruce B  Seton   \n",
      "2416      0118043                          Brian Jay  Albertson   \n",
      "2417      0113309                               Mike  Gunsinger   \n",
      "2418      0117463                           Jason John  Kuester   \n",
      "2419      0084453                John  Emmett; Lucretia  Emmett   \n",
      "2420      0076953                              James E  Simpson   \n",
      "2421       M02618                                  Elmer  Wolfe   \n",
      "2422       M31681                              Vernon L  Kasten   \n",
      "2423      0100325        Cap  Shafer; Cam  Shafer; Brok  Shafer   \n",
      "2424      0042303                             Douglas L  Wilson   \n",
      "2425       M11042          David L  Smith; Mary Smith  Crockett   \n",
      "2426      0120481               David R  Wittwer; Randy  Failey   \n",
      "2427       M01780                         Summitville Tiles Inc   \n",
      "2428      0048869               Kevin L  Pardue; Steven  Pardue   \n",
      "2429       M05266                               Craig  St Clair   \n",
      "2430       C12271                                  John  Lenick   \n",
      "2431       M10050                        Mosaic Global Holdings   \n",
      "2432       M04134                       Goodfellow Brothers Inc   \n",
      "2433       M35597                               Arnold N  Lewis   \n",
      "2434       M40149                                Gary  Weathers   \n",
      "2435      0044203        Votorantim Cimentos; Anderson Columbia   \n",
      "\n",
      "      ending_balance  mine_id  \n",
      "0         3785194.85       60  \n",
      "1         2300544.43       19  \n",
      "2         1197059.54        1  \n",
      "3          926471.69       50  \n",
      "4          829123.19        4  \n",
      "5          736348.94        2  \n",
      "6          582373.08        4  \n",
      "7          582219.63       18  \n",
      "8          530690.12        4  \n",
      "9          518182.42       11  \n",
      "10         503760.73        4  \n",
      "11         498669.82        8  \n",
      "12         485422.34        1  \n",
      "13         466591.50        7  \n",
      "14         454765.52        2  \n",
      "15         448284.38       11  \n",
      "16         440604.59        5  \n",
      "17         436289.31        1  \n",
      "18         435731.39        9  \n",
      "19         429969.99        1  \n",
      "20         416749.94        1  \n",
      "21         411017.36        3  \n",
      "22         369476.16        1  \n",
      "23         368317.67        1  \n",
      "24         348913.55        4  \n",
      "25         320970.59        3  \n",
      "26         307068.79        6  \n",
      "27         286720.33        2  \n",
      "28         264508.53        3  \n",
      "29         263413.45        3  \n",
      "...              ...      ...  \n",
      "2406            1.37        1  \n",
      "2407            1.36        1  \n",
      "2408            1.34        1  \n",
      "2409            1.32        1  \n",
      "2410            1.05        1  \n",
      "2411            0.91        1  \n",
      "2412            0.90        1  \n",
      "2413            0.74        1  \n",
      "2414            0.69        1  \n",
      "2415            0.67        1  \n",
      "2416            0.60        1  \n",
      "2417            0.58        1  \n",
      "2418            0.56        1  \n",
      "2419            0.54        1  \n",
      "2420            0.54        1  \n",
      "2421            0.50        1  \n",
      "2422            0.49        1  \n",
      "2423            0.49        1  \n",
      "2424            0.37        1  \n",
      "2425            0.30        1  \n",
      "2426            0.23        1  \n",
      "2427            0.16        1  \n",
      "2428            0.13        1  \n",
      "2429            0.10        1  \n",
      "2430            0.07        1  \n",
      "2431            0.05        1  \n",
      "2432            0.04        1  \n",
      "2433            0.01        1  \n",
      "2434            0.01        1  \n",
      "2435            0.01        1  \n",
      "\n",
      "[2436 rows x 4 columns]\n"
     ]
    }
   ],
   "source": [
    "top_debtors = del_data_joined.groupby(['dba_ctrlr_id','dba_ctrlr_nm']).agg({'ending_balance':'sum',\n",
    "                                                        'mine_id':'nunique'}).sort_values('ending_balance', ascending=False).reset_index()\n",
    "\n",
    "#print(delinquency_data.dba_ctrlr_nm.nunique())\n",
    "print(top_debtors)"
   ]
  },
  {
   "cell_type": "code",
   "execution_count": 17,
   "metadata": {},
   "outputs": [
    {
     "name": "stdout",
     "output_type": "stream",
     "text": [
      "      catod_oper_id catod_ctrlr_id catod_ctrlr_start_dt catod_ctrlr_end_dt  \\\n",
      "12815        P24562         C00085           2006-10-02         2019-01-01   \n",
      "12816        P24562         C00085           2006-10-02         2019-01-01   \n",
      "12817        P24562         C00085           2006-10-02         2019-01-01   \n",
      "12818        P24562         C00085           2006-10-02         2019-01-01   \n",
      "12819        P24562         C00085           2006-10-02         2019-01-01   \n",
      "12820        P24562         C00085           2006-10-02         2019-01-01   \n",
      "12821        P24562         C00085           2006-10-02         2019-01-01   \n",
      "12822        P24562         C00085           2006-10-02         2019-01-01   \n",
      "12823        P24562         C00085           2006-10-02         2019-01-01   \n",
      "12824        P24562         C00085           2006-10-02         2019-01-01   \n",
      "12825        P24562         C00085           2006-10-02         2019-01-01   \n",
      "12826        P24562         C00085           2006-10-02         2019-01-01   \n",
      "12827        P24562         C00085           2006-10-02         2019-01-01   \n",
      "12828        P24562         C00085           2006-10-02         2019-01-01   \n",
      "12829        P24562         C00085           2006-10-02         2019-01-01   \n",
      "12830        P24562         C00085           2006-10-02         2019-01-01   \n",
      "12831        P24562         C00085           2006-10-02         2019-01-01   \n",
      "12832        P24562         C00085           2006-10-02         2019-01-01   \n",
      "12833        P24562         C00085           2006-10-02         2019-01-01   \n",
      "12834        P24562         C00085           2006-10-02         2019-01-01   \n",
      "12835        P24562         C00085           2006-10-02         2019-01-01   \n",
      "12836        P24562         C00085           2006-10-02         2019-01-01   \n",
      "12837        P24562         C00085           2006-10-02         2019-01-01   \n",
      "12838        P24562         C00085           2006-10-02         2019-01-01   \n",
      "12839        P24562         C00085           2006-10-02         2019-01-01   \n",
      "12840        P24562         C00085           2006-10-02         2019-01-01   \n",
      "12841        P24562         C00085           2006-10-02         2019-01-01   \n",
      "12842        P24562         C00085           2006-10-02         2019-01-01   \n",
      "12843        P24562         C00085           2006-10-02         2019-01-01   \n",
      "12844        P24562         C00085           2006-10-02         2019-01-01   \n",
      "12845        P24562         C00085           2006-10-02         2019-01-01   \n",
      "12846        P24562         C00085           2006-10-02         2019-01-01   \n",
      "12847        P24562         C00085           2006-10-02         2019-01-01   \n",
      "12848        P24562         C00085           2006-10-02         2019-01-01   \n",
      "12849        P24562         C00085           2006-10-02         2019-01-01   \n",
      "12850        P24562         C00085           2006-10-02         2019-01-01   \n",
      "12851        P24562         C00085           2006-10-02         2019-01-01   \n",
      "12852        P24562         C00085           2006-10-02         2019-01-01   \n",
      "12853        P24562         C00085           2006-10-02         2019-01-01   \n",
      "12854        P24562         C00085           2006-10-02         2019-01-01   \n",
      "12855        P24562         C00085           2006-10-02         2019-01-01   \n",
      "12856        P24562         C00085           2006-10-02         2019-01-01   \n",
      "12857        P24562         C00085           2006-10-02         2019-01-01   \n",
      "12858        P24562         C00085           2006-10-02         2019-01-01   \n",
      "12859        P24562         C00085           2006-10-02         2019-01-01   \n",
      "12860        P24562         C15901           2000-10-01         2006-10-01   \n",
      "12861        P24562         C15901           2000-10-01         2006-10-01   \n",
      "12862        P24562         C15901           2000-10-01         2006-10-01   \n",
      "12863        P24562         C15901           2000-10-01         2006-10-01   \n",
      "12864        P24562         C15901           2000-10-01         2006-10-01   \n",
      "12865        P24562         C15901           2000-10-01         2006-10-01   \n",
      "\n",
      "         catod_oper_nm ass_case_nbr    mine_id delinquent_date  \\\n",
      "12815  Rio Group, Inc.    000099444  4608570.0      2006-11-17   \n",
      "12816  Rio Group, Inc.    000102072  4608570.0      2006-12-15   \n",
      "12817  Rio Group, Inc.    000106701  4608570.0      2007-02-16   \n",
      "12818  Rio Group, Inc.    000116920  4608570.0      2007-06-15   \n",
      "12819  Rio Group, Inc.    000118991  4608570.0      2007-07-13   \n",
      "12820  Rio Group, Inc.    000123642  4608570.0      2007-09-14   \n",
      "12821  Rio Group, Inc.    000128000  4608570.0      2007-11-14   \n",
      "12822  Rio Group, Inc.    000152115  4608570.0      2008-07-11   \n",
      "12823  Rio Group, Inc.    000155438  4608570.0      2008-08-14   \n",
      "12824  Rio Group, Inc.    000158979  4608570.0      2008-09-15   \n",
      "12825  Rio Group, Inc.    000164119  4608570.0      2008-11-08   \n",
      "12826  Rio Group, Inc.    000167066  4608570.0      2008-12-05   \n",
      "12827  Rio Group, Inc.    000173008  4608570.0      2009-02-14   \n",
      "12828  Rio Group, Inc.    000178096  4608570.0      2009-04-11   \n",
      "12829  Rio Group, Inc.    000180685  4608570.0      2009-05-09   \n",
      "12830  Rio Group, Inc.    000183768  4608570.0      2009-06-06   \n",
      "12831  Rio Group, Inc.    000189652  4608570.0      2009-08-07   \n",
      "12832  Rio Group, Inc.    000192452  4608570.0      2009-09-09   \n",
      "12833  Rio Group, Inc.    000198742  4608570.0      2009-11-14   \n",
      "12834  Rio Group, Inc.    000201744  4608570.0      2009-12-13   \n",
      "12835  Rio Group, Inc.    000204511  4608570.0      2010-01-08   \n",
      "12836  Rio Group, Inc.    000207295  4608570.0      2010-02-05   \n",
      "12837  Rio Group, Inc.    000212613  4608570.0      2010-04-08   \n",
      "12838  Rio Group, Inc.    000218090  4608570.0      2010-06-02   \n",
      "12839  Rio Group, Inc.    000221016  4608570.0      2010-07-14   \n",
      "12840  Rio Group, Inc.    000224418  4608570.0      2010-08-14   \n",
      "12841  Rio Group, Inc.    000227228  4608570.0      2010-09-15   \n",
      "12842  Rio Group, Inc.    000161479  4608570.0      2010-10-04   \n",
      "12843  Rio Group, Inc.    000230438  4608570.0      2010-10-09   \n",
      "12844  Rio Group, Inc.    000233648  4608570.0      2010-11-03   \n",
      "12845  Rio Group, Inc.    000236830  4608570.0      2010-12-09   \n",
      "12846  Rio Group, Inc.    000239684  4608570.0      2011-01-05   \n",
      "12847  Rio Group, Inc.    000242487  4608570.0      2011-02-09   \n",
      "12848  Rio Group, Inc.    000253331  4608570.0      2011-06-10   \n",
      "12849  Rio Group, Inc.    000262020  4608570.0      2011-09-10   \n",
      "12850  Rio Group, Inc.    000273630  4608570.0      2012-01-05   \n",
      "12851  Rio Group, Inc.    000276483  4608570.0      2012-02-10   \n",
      "12852  Rio Group, Inc.    000307575  4608570.0      2013-01-02   \n",
      "12853  Rio Group, Inc.    000310163  4608570.0      2013-02-08   \n",
      "12854  Rio Group, Inc.    000317461  4608570.0      2013-05-12   \n",
      "12855  Rio Group, Inc.    000320376  4608570.0      2013-06-12   \n",
      "12856  Rio Group, Inc.    000346530  4608570.0      2014-05-05   \n",
      "12857  Rio Group, Inc.    000349500  4608570.0      2014-07-19   \n",
      "12858  Rio Group, Inc.    000357377  4608570.0      2014-09-03   \n",
      "12859  Rio Group, Inc.    000363566  4608570.0      2014-11-07   \n",
      "12860  Rio Group, Inc.    000017780  4608858.0      2004-03-06   \n",
      "12861  Rio Group, Inc.    000027616  4608858.0      2004-07-25   \n",
      "12862  Rio Group, Inc.    000012064  4608857.0      2003-12-19   \n",
      "12863  Rio Group, Inc.    000020130  4608857.0      2004-04-23   \n",
      "12864  Rio Group, Inc.    000027615  4608857.0      2004-08-01   \n",
      "12865  Rio Group, Inc.    000012061  4605909.0      2003-12-10   \n",
      "\n",
      "       ending_balance                    curr_mine_nm  ... curr_stat_dt  \\\n",
      "12815         3144.89              Coalburg No 2 Mine  ...   18-05-2015   \n",
      "12816          236.00              Coalburg No 2 Mine  ...   18-05-2015   \n",
      "12817         2907.05              Coalburg No 2 Mine  ...   18-05-2015   \n",
      "12818         5453.69              Coalburg No 2 Mine  ...   18-05-2015   \n",
      "12819         3393.52              Coalburg No 2 Mine  ...   18-05-2015   \n",
      "12820        17998.61              Coalburg No 2 Mine  ...   18-05-2015   \n",
      "12821        38880.57              Coalburg No 2 Mine  ...   18-05-2015   \n",
      "12822        37745.25              Coalburg No 2 Mine  ...   18-05-2015   \n",
      "12823          755.80              Coalburg No 2 Mine  ...   18-05-2015   \n",
      "12824         1865.48              Coalburg No 2 Mine  ...   18-05-2015   \n",
      "12825        20496.92              Coalburg No 2 Mine  ...   18-05-2015   \n",
      "12826        45972.20              Coalburg No 2 Mine  ...   18-05-2015   \n",
      "12827         2113.34              Coalburg No 2 Mine  ...   18-05-2015   \n",
      "12828         6913.11              Coalburg No 2 Mine  ...   18-05-2015   \n",
      "12829        25359.92              Coalburg No 2 Mine  ...   18-05-2015   \n",
      "12830         2461.82              Coalburg No 2 Mine  ...   18-05-2015   \n",
      "12831        12132.31              Coalburg No 2 Mine  ...   18-05-2015   \n",
      "12832        11800.71              Coalburg No 2 Mine  ...   18-05-2015   \n",
      "12833        42902.83              Coalburg No 2 Mine  ...   18-05-2015   \n",
      "12834         1530.61              Coalburg No 2 Mine  ...   18-05-2015   \n",
      "12835        33006.24              Coalburg No 2 Mine  ...   18-05-2015   \n",
      "12836         1061.61              Coalburg No 2 Mine  ...   18-05-2015   \n",
      "12837         5201.64              Coalburg No 2 Mine  ...   18-05-2015   \n",
      "12838        26295.07              Coalburg No 2 Mine  ...   18-05-2015   \n",
      "12839        28297.55              Coalburg No 2 Mine  ...   18-05-2015   \n",
      "12840         4935.77              Coalburg No 2 Mine  ...   18-05-2015   \n",
      "12841         2229.89              Coalburg No 2 Mine  ...   18-05-2015   \n",
      "12842        31214.94              Coalburg No 2 Mine  ...   18-05-2015   \n",
      "12843        12902.11              Coalburg No 2 Mine  ...   18-05-2015   \n",
      "12844        11725.56              Coalburg No 2 Mine  ...   18-05-2015   \n",
      "12845         3973.43              Coalburg No 2 Mine  ...   18-05-2015   \n",
      "12846          527.50              Coalburg No 2 Mine  ...   18-05-2015   \n",
      "12847        12312.29              Coalburg No 2 Mine  ...   18-05-2015   \n",
      "12848        51906.61              Coalburg No 2 Mine  ...   18-05-2015   \n",
      "12849          114.06              Coalburg No 2 Mine  ...   18-05-2015   \n",
      "12850         2665.41              Coalburg No 2 Mine  ...   18-05-2015   \n",
      "12851          131.81              Coalburg No 2 Mine  ...   18-05-2015   \n",
      "12852         3877.21              Coalburg No 2 Mine  ...   18-05-2015   \n",
      "12853          218.22              Coalburg No 2 Mine  ...   18-05-2015   \n",
      "12854         4555.17              Coalburg No 2 Mine  ...   18-05-2015   \n",
      "12855         1188.15              Coalburg No 2 Mine  ...   18-05-2015   \n",
      "12856          634.53              Coalburg No 2 Mine  ...   18-05-2015   \n",
      "12857          399.65              Coalburg No 2 Mine  ...   18-05-2015   \n",
      "12858          550.15              Coalburg No 2 Mine  ...   18-05-2015   \n",
      "12859          884.10              Coalburg No 2 Mine  ...   18-05-2015   \n",
      "12860          471.63           Six South No Two Mine  ...   26-08-2004   \n",
      "12861         1109.99           Six South No Two Mine  ...   26-08-2004   \n",
      "12862          516.66           Six South No One Mine  ...   26-08-2004   \n",
      "12863         1666.53           Six South No One Mine  ...   26-08-2004   \n",
      "12864         1360.73           Six South No One Mine  ...   26-08-2004   \n",
      "12865          691.28  Holden No 22 Preparation Plant  ...   12-11-1999   \n",
      "\n",
      "      curr_ctrlr_id       curr_ctrlr_nm curr_oper_id     curr_oper_nm  \\\n",
      "12815        C00085  Richard H  Abraham       P24562  Rio Group, Inc.   \n",
      "12816        C00085  Richard H  Abraham       P24562  Rio Group, Inc.   \n",
      "12817        C00085  Richard H  Abraham       P24562  Rio Group, Inc.   \n",
      "12818        C00085  Richard H  Abraham       P24562  Rio Group, Inc.   \n",
      "12819        C00085  Richard H  Abraham       P24562  Rio Group, Inc.   \n",
      "12820        C00085  Richard H  Abraham       P24562  Rio Group, Inc.   \n",
      "12821        C00085  Richard H  Abraham       P24562  Rio Group, Inc.   \n",
      "12822        C00085  Richard H  Abraham       P24562  Rio Group, Inc.   \n",
      "12823        C00085  Richard H  Abraham       P24562  Rio Group, Inc.   \n",
      "12824        C00085  Richard H  Abraham       P24562  Rio Group, Inc.   \n",
      "12825        C00085  Richard H  Abraham       P24562  Rio Group, Inc.   \n",
      "12826        C00085  Richard H  Abraham       P24562  Rio Group, Inc.   \n",
      "12827        C00085  Richard H  Abraham       P24562  Rio Group, Inc.   \n",
      "12828        C00085  Richard H  Abraham       P24562  Rio Group, Inc.   \n",
      "12829        C00085  Richard H  Abraham       P24562  Rio Group, Inc.   \n",
      "12830        C00085  Richard H  Abraham       P24562  Rio Group, Inc.   \n",
      "12831        C00085  Richard H  Abraham       P24562  Rio Group, Inc.   \n",
      "12832        C00085  Richard H  Abraham       P24562  Rio Group, Inc.   \n",
      "12833        C00085  Richard H  Abraham       P24562  Rio Group, Inc.   \n",
      "12834        C00085  Richard H  Abraham       P24562  Rio Group, Inc.   \n",
      "12835        C00085  Richard H  Abraham       P24562  Rio Group, Inc.   \n",
      "12836        C00085  Richard H  Abraham       P24562  Rio Group, Inc.   \n",
      "12837        C00085  Richard H  Abraham       P24562  Rio Group, Inc.   \n",
      "12838        C00085  Richard H  Abraham       P24562  Rio Group, Inc.   \n",
      "12839        C00085  Richard H  Abraham       P24562  Rio Group, Inc.   \n",
      "12840        C00085  Richard H  Abraham       P24562  Rio Group, Inc.   \n",
      "12841        C00085  Richard H  Abraham       P24562  Rio Group, Inc.   \n",
      "12842        C00085  Richard H  Abraham       P24562  Rio Group, Inc.   \n",
      "12843        C00085  Richard H  Abraham       P24562  Rio Group, Inc.   \n",
      "12844        C00085  Richard H  Abraham       P24562  Rio Group, Inc.   \n",
      "12845        C00085  Richard H  Abraham       P24562  Rio Group, Inc.   \n",
      "12846        C00085  Richard H  Abraham       P24562  Rio Group, Inc.   \n",
      "12847        C00085  Richard H  Abraham       P24562  Rio Group, Inc.   \n",
      "12848        C00085  Richard H  Abraham       P24562  Rio Group, Inc.   \n",
      "12849        C00085  Richard H  Abraham       P24562  Rio Group, Inc.   \n",
      "12850        C00085  Richard H  Abraham       P24562  Rio Group, Inc.   \n",
      "12851        C00085  Richard H  Abraham       P24562  Rio Group, Inc.   \n",
      "12852        C00085  Richard H  Abraham       P24562  Rio Group, Inc.   \n",
      "12853        C00085  Richard H  Abraham       P24562  Rio Group, Inc.   \n",
      "12854        C00085  Richard H  Abraham       P24562  Rio Group, Inc.   \n",
      "12855        C00085  Richard H  Abraham       P24562  Rio Group, Inc.   \n",
      "12856        C00085  Richard H  Abraham       P24562  Rio Group, Inc.   \n",
      "12857        C00085  Richard H  Abraham       P24562  Rio Group, Inc.   \n",
      "12858        C00085  Richard H  Abraham       P24562  Rio Group, Inc.   \n",
      "12859        C00085  Richard H  Abraham       P24562  Rio Group, Inc.   \n",
      "12860        C00085  Richard H  Abraham       P24562    Rio Group Inc   \n",
      "12861        C00085  Richard H  Abraham       P24562    Rio Group Inc   \n",
      "12862        C00085  Richard H  Abraham       P24562    Rio Group Inc   \n",
      "12863        C00085  Richard H  Abraham       P24562    Rio Group Inc   \n",
      "12864        C00085  Richard H  Abraham       P24562    Rio Group Inc   \n",
      "12865        C15561       Arch Coal Inc       P20596     Coal-Mac LLC   \n",
      "\n",
      "      state_abbr fips_cnty_nm curr_ownr_beg_dt dba_ctrlr_id  \\\n",
      "12815         WV        Logan       05-09-2003       C00085   \n",
      "12816         WV        Logan       05-09-2003       C00085   \n",
      "12817         WV        Logan       05-09-2003       C00085   \n",
      "12818         WV        Logan       05-09-2003       C00085   \n",
      "12819         WV        Logan       05-09-2003       C00085   \n",
      "12820         WV        Logan       05-09-2003       C00085   \n",
      "12821         WV        Logan       05-09-2003       C00085   \n",
      "12822         WV        Logan       05-09-2003       C00085   \n",
      "12823         WV        Logan       05-09-2003       C00085   \n",
      "12824         WV        Logan       05-09-2003       C00085   \n",
      "12825         WV        Logan       05-09-2003       C00085   \n",
      "12826         WV        Logan       05-09-2003       C00085   \n",
      "12827         WV        Logan       05-09-2003       C00085   \n",
      "12828         WV        Logan       05-09-2003       C00085   \n",
      "12829         WV        Logan       05-09-2003       C00085   \n",
      "12830         WV        Logan       05-09-2003       C00085   \n",
      "12831         WV        Logan       05-09-2003       C00085   \n",
      "12832         WV        Logan       05-09-2003       C00085   \n",
      "12833         WV        Logan       05-09-2003       C00085   \n",
      "12834         WV        Logan       05-09-2003       C00085   \n",
      "12835         WV        Logan       05-09-2003       C00085   \n",
      "12836         WV        Logan       05-09-2003       C00085   \n",
      "12837         WV        Logan       05-09-2003       C00085   \n",
      "12838         WV        Logan       05-09-2003       C00085   \n",
      "12839         WV        Logan       05-09-2003       C00085   \n",
      "12840         WV        Logan       05-09-2003       C00085   \n",
      "12841         WV        Logan       05-09-2003       C00085   \n",
      "12842         WV        Logan       05-09-2003       C00085   \n",
      "12843         WV        Logan       05-09-2003       C00085   \n",
      "12844         WV        Logan       05-09-2003       C00085   \n",
      "12845         WV        Logan       05-09-2003       C00085   \n",
      "12846         WV        Logan       05-09-2003       C00085   \n",
      "12847         WV        Logan       05-09-2003       C00085   \n",
      "12848         WV        Logan       05-09-2003       C00085   \n",
      "12849         WV        Logan       05-09-2003       C00085   \n",
      "12850         WV        Logan       05-09-2003       C00085   \n",
      "12851         WV        Logan       05-09-2003       C00085   \n",
      "12852         WV        Logan       05-09-2003       C00085   \n",
      "12853         WV        Logan       05-09-2003       C00085   \n",
      "12854         WV        Logan       05-09-2003       C00085   \n",
      "12855         WV        Logan       05-09-2003       C00085   \n",
      "12856         WV        Logan       05-09-2003       C00085   \n",
      "12857         WV        Logan       05-09-2003       C00085   \n",
      "12858         WV        Logan       05-09-2003       C00085   \n",
      "12859         WV        Logan       05-09-2003       C00085   \n",
      "12860         WV        Mingo       01-10-2000       C00085   \n",
      "12861         WV        Mingo       01-10-2000       C00085   \n",
      "12862         WV        Mingo       01-10-2000       C00085   \n",
      "12863         WV        Mingo       01-10-2000       C00085   \n",
      "12864         WV        Mingo       01-10-2000       C00085   \n",
      "12865         WV        Logan       17-07-2003       C00085   \n",
      "\n",
      "             dba_ctrlr_nm  \n",
      "12815  Richard H  Abraham  \n",
      "12816  Richard H  Abraham  \n",
      "12817  Richard H  Abraham  \n",
      "12818  Richard H  Abraham  \n",
      "12819  Richard H  Abraham  \n",
      "12820  Richard H  Abraham  \n",
      "12821  Richard H  Abraham  \n",
      "12822  Richard H  Abraham  \n",
      "12823  Richard H  Abraham  \n",
      "12824  Richard H  Abraham  \n",
      "12825  Richard H  Abraham  \n",
      "12826  Richard H  Abraham  \n",
      "12827  Richard H  Abraham  \n",
      "12828  Richard H  Abraham  \n",
      "12829  Richard H  Abraham  \n",
      "12830  Richard H  Abraham  \n",
      "12831  Richard H  Abraham  \n",
      "12832  Richard H  Abraham  \n",
      "12833  Richard H  Abraham  \n",
      "12834  Richard H  Abraham  \n",
      "12835  Richard H  Abraham  \n",
      "12836  Richard H  Abraham  \n",
      "12837  Richard H  Abraham  \n",
      "12838  Richard H  Abraham  \n",
      "12839  Richard H  Abraham  \n",
      "12840  Richard H  Abraham  \n",
      "12841  Richard H  Abraham  \n",
      "12842  Richard H  Abraham  \n",
      "12843  Richard H  Abraham  \n",
      "12844  Richard H  Abraham  \n",
      "12845  Richard H  Abraham  \n",
      "12846  Richard H  Abraham  \n",
      "12847  Richard H  Abraham  \n",
      "12848  Richard H  Abraham  \n",
      "12849  Richard H  Abraham  \n",
      "12850  Richard H  Abraham  \n",
      "12851  Richard H  Abraham  \n",
      "12852  Richard H  Abraham  \n",
      "12853  Richard H  Abraham  \n",
      "12854  Richard H  Abraham  \n",
      "12855  Richard H  Abraham  \n",
      "12856  Richard H  Abraham  \n",
      "12857  Richard H  Abraham  \n",
      "12858  Richard H  Abraham  \n",
      "12859  Richard H  Abraham  \n",
      "12860  Richard H  Abraham  \n",
      "12861  Richard H  Abraham  \n",
      "12862  Richard H  Abraham  \n",
      "12863  Richard H  Abraham  \n",
      "12864  Richard H  Abraham  \n",
      "12865  Richard H  Abraham  \n",
      "\n",
      "[51 rows x 23 columns]\n"
     ]
    }
   ],
   "source": [
    "abrahams_debt = del_data_joined[del_data_joined['dba_ctrlr_id'] == 'C00085']\n",
    "print(abrahams_debt)"
   ]
  },
  {
   "cell_type": "markdown",
   "metadata": {},
   "source": [
    "## Top regional debtors\n",
    "- We'll want money owed according to DBA\n",
    "- Mine count according to DBA\n",
    "- Amount paid down according to MSHA violations db"
   ]
  },
  {
   "cell_type": "code",
   "execution_count": 338,
   "metadata": {},
   "outputs": [
    {
     "name": "stdout",
     "output_type": "stream",
     "text": [
      "736348.9400000001\n",
      "2\n"
     ]
    }
   ],
   "source": [
    "#Virginia Conservation Legacy Fund (0121101) wants to see what they owe\n",
    "#Let's export their slice of the data for them.\n",
    "\n",
    "vclf_dba_data = get_dba_data(['0121101'])\n",
    "vclf_dba_debt = get_dba_debt(['0121101'])\n",
    "vclf_dba_mines = get_dba_mine_count(['0121101'])\n",
    "\n",
    "print(vclf_dba_debt)\n",
    "print(vclf_dba_mines)\n",
    "#vclf_dba_data.to_csv(data_dir + 'analysis/by_controller/20181205_vclf_debtbyage_data.csv')"
   ]
  },
  {
   "cell_type": "markdown",
   "metadata": {},
   "source": [
    "## General accident rates for delinquent and nondelinquent mines"
   ]
  },
  {
   "cell_type": "code",
   "execution_count": 287,
   "metadata": {},
   "outputs": [],
   "source": [
    "def filter_mines(mine_data, c_m, mine_type, mine_status, del_status, hr_text):\n",
    "    if c_m:\n",
    "        filter_cm = mine_data[mine_data['c_m_ind'] == c_m]['mine_id'].unique()\n",
    "    else:\n",
    "        filter_cm = mine_data['mine_id'].unique()\n",
    "    if mine_type:\n",
    "        filter_mine_type = mine_data[mine_data['mine_type_cd'] == mine_type]['mine_id'].unique()\n",
    "    else:\n",
    "        filter_mine_type = mine_data['mine_id'].unique()\n",
    "    if mine_status:\n",
    "        filter_mine_status = mine_data[mine_data['curr_stat_cd'] == mine_status]['mine_id'].unique()\n",
    "    else:\n",
    "        filter_mine_status = mine_data['mine_id'].unique()\n",
    "    \n",
    "    filter_injuries = injuries[(injuries['MINE_ID'].isin(filter_cm)) & (injuries['MINE_ID'].isin(filter_mine_type)) & (injuries['MINE_ID'].isin(filter_mine_status))]\n",
    "    filter_hours = hrs_data[(hrs_data['MINE_ID'].isin(filter_cm)) & (hrs_data['MINE_ID'].isin(filter_mine_type)) & (hrs_data['MINE_ID'].isin(filter_mine_status))]\n",
    "    \n",
    "    if del_status == 'Delinquent':\n",
    "        filter_injuries = filter_injuries[filter_injuries['MINE_ID'].isin(get_delinquent_since(2014))]\n",
    "        filter_hours = filter_hours[filter_hours['MINE_ID'].isin(get_delinquent_since(2014))]\n",
    "    elif del_status == 'Nondelinquent':\n",
    "        filter_injuries = filter_injuries[~filter_injuries['MINE_ID'].isin(get_delinquent_mines())]\n",
    "        filter_hours = filter_hours[~filter_hours['MINE_ID'].isin(get_delinquent_mines())]\n",
    "    elif del_status == 'All':\n",
    "        filter_injuries = filter_injuries\n",
    "        filter_hours = filter_hours\n",
    "    \n",
    "    #10-year average injury rate\n",
    "    print(get_range_injury_rate(filter_injuries, filter_hours, hr_text, list(range(2009,2019,1))))\n",
    "    #5-year average injury rate\n",
    "    #print(get_range_injury_rate(injuries, hours, hr_text, list(range(2014,2019,1))))\n",
    "    #ALL-year average injury rate\n",
    "    #print(get_range_injury_rate(injuries, hours, hr_text, list(range(1994,2019,1))))\n",
    "    "
   ]
  },
  {
   "cell_type": "code",
   "execution_count": 309,
   "metadata": {},
   "outputs": [
    {
     "name": "stdout",
     "output_type": "stream",
     "text": [
      "*****Avg Injury Rates For All Mines*****\n",
      "All mines: 2.88\n",
      "All delinquent mines: 3.65\n",
      "All nondelinquent mines: 2.66\n",
      "Active mines: 2.68\n",
      "Active, delinquent mines: 3.12\n",
      "Active, nondelinquent mines: 2.51\n",
      "\n",
      "*****Avg Injury Rates For Coal Mines*****\n",
      "All coal mines: 3.83\n",
      "All delinquent coal mines: 4.45\n",
      "All nondelinquent coal mines: 3.38\n",
      "Active coal mines: 3.38\n",
      "Active, delinquent coal mines: 3.32\n",
      "Active, nondelinquent coal mines: 2.98\n",
      "\n",
      "All underground coal mines: 5.41\n",
      "All delinquent, underground coal mines: 6.5\n",
      "All nondelinquent, underground coal mines: 4.97\n",
      "Active underground coal mines: 4.92\n",
      "Active, delinquent, underground coal mines: 4.83\n",
      "Active, nondelinquent, underground coal mines: 4.57\n",
      "\n",
      "All surface coal mines: 1.77\n",
      "All delinquent, surface coal mines: 2.94\n",
      "All nondelinquent, surface coal mines: 1.67\n",
      "Active surface coal mines: 1.4\n",
      "Active, delinquent, surface coal mines: 2.68\n",
      "Active, nondelinquent, surface coal mines: 1.31\n",
      "\n",
      "All facility coal mines: 3.77\n",
      "All delinquent, facility coal mines: 3.78\n",
      "All nondelinquent, facility coal mines: 3.72\n",
      "Active facility coal mines: 2.79\n",
      "Active, delinquent, facility coal mines: 3.66\n",
      "Active, nondelinquent, facility coal mines: 2.78\n"
     ]
    }
   ],
   "source": [
    "print('*****Avg Injury Rates For All Mines*****')\n",
    "filter_mines(mine_data,'', '', '', 'All', 'All mines')\n",
    "filter_mines(mine_data,'', '', '', 'Delinquent', 'All delinquent mines')\n",
    "filter_mines(mine_data,'', '', '', 'Nondelinquent', 'All nondelinquent mines')\n",
    "filter_mines(mine_data,'', '', 'Active', 'All', 'Active mines')\n",
    "filter_mines(mine_data,'', '', 'Active', 'Delinquent', 'Active, delinquent mines')\n",
    "filter_mines(mine_data,'', '', 'Active', 'Nondelinquent', 'Active, nondelinquent mines')\n",
    "print('')\n",
    "print('*****Avg Injury Rates For Coal Mines*****')\n",
    "filter_mines(mine_data,'C', '', '', 'All', 'All coal mines')\n",
    "filter_mines(mine_data,'C', '', '', 'Delinquent', 'All delinquent coal mines')\n",
    "filter_mines(mine_data,'C', '', '', 'Nondelinquent', 'All nondelinquent coal mines')\n",
    "filter_mines(mine_data,'C', '', 'Active', 'All', 'Active coal mines')\n",
    "filter_mines(mine_data,'C', '', 'Active', 'Delinquent', 'Active, delinquent coal mines')\n",
    "filter_mines(mine_data,'C', '', 'Active', 'Nondelinquent', 'Active, nondelinquent coal mines')\n",
    "print('')\n",
    "filter_mines(mine_data,'C', 'Underground', '', 'All', 'All underground coal mines')\n",
    "filter_mines(mine_data,'C', 'Underground', '', 'Delinquent', 'All delinquent, underground coal mines')\n",
    "filter_mines(mine_data,'C', 'Underground', '', 'Nondelinquent', 'All nondelinquent, underground coal mines')\n",
    "filter_mines(mine_data,'C', 'Underground', 'Active', 'All', 'Active underground coal mines')\n",
    "filter_mines(mine_data,'C', 'Underground', 'Active', 'Delinquent', 'Active, delinquent, underground coal mines')\n",
    "filter_mines(mine_data,'C', 'Underground', 'Active', 'Nondelinquent', 'Active, nondelinquent, underground coal mines')\n",
    "print('')\n",
    "filter_mines(mine_data,'C', 'Surface', '', 'All', 'All surface coal mines')\n",
    "filter_mines(mine_data,'C', 'Surface', '', 'Delinquent', 'All delinquent, surface coal mines')\n",
    "filter_mines(mine_data,'C', 'Surface', '', 'Nondelinquent', 'All nondelinquent, surface coal mines')\n",
    "filter_mines(mine_data,'C', 'Surface', 'Active', 'All', 'Active surface coal mines')\n",
    "filter_mines(mine_data,'C', 'Surface', 'Active', 'Delinquent', 'Active, delinquent, surface coal mines')\n",
    "filter_mines(mine_data,'C', 'Surface', 'Active', 'Nondelinquent', 'Active, nondelinquent, surface coal mines')\n",
    "print('')\n",
    "filter_mines(mine_data,'C', 'Facility', '', 'All', 'All facility coal mines')\n",
    "filter_mines(mine_data,'C', 'Facility', '', 'Delinquent', 'All delinquent, facility coal mines')\n",
    "filter_mines(mine_data,'C', 'Facility', '', 'Nondelinquent', 'All nondelinquent, facility coal mines')\n",
    "filter_mines(mine_data,'C', 'Facility', 'Active', 'All', 'Active facility coal mines')\n",
    "filter_mines(mine_data,'C', 'Facility', 'Active', 'Delinquent', 'Active, delinquent, facility coal mines')\n",
    "filter_mines(mine_data,'C', 'Facility', 'Active', 'Nondelinquent', 'Active, nondelinquent, facility coal mines')"
   ]
  },
  {
   "cell_type": "markdown",
   "metadata": {},
   "source": [
    "## Fact check Justice Group statement\n",
    "\"The Justice Group is also very proud to report that its accident and incident history of currently operated mines is very favorable.\""
   ]
  },
  {
   "cell_type": "code",
   "execution_count": 319,
   "metadata": {},
   "outputs": [
    {
     "name": "stdout",
     "output_type": "stream",
     "text": [
      "mine_id    mine_type_cd\n",
      "4407115.0  Surface         1\n",
      "4407160.0  Surface         1\n",
      "4604734.0  Facility        1\n",
      "4606578.0  Surface         1\n",
      "4608786.0  Underground     1\n",
      "4608884.0  Underground     1\n",
      "4609239.0  Surface         1\n",
      "4609316.0  Facility        1\n",
      "Name: mine_id, dtype: int64\n"
     ]
    }
   ],
   "source": [
    "justice_curr_del_mines = get_curr_data(['0091855','C04355'])\n",
    "justice_active_curr_del_mines = justice_curr_del_mines[justice_curr_del_mines['curr_stat_cd'] == 'Active']\n",
    "print(justice_active_curr_del_mines.groupby(['mine_id','mine_type_cd'])['mine_id'].nunique())\n",
    "#print(justice_active_curr_del_mines.columns)\n",
    "#justice_active_current_mines = justice_current_mines[justice_current_mines['curr_stat_cd'] == 'Active']\n",
    "#print(justice_active_current_mines.mine_id.unique())"
   ]
  },
  {
   "cell_type": "code",
   "execution_count": 324,
   "metadata": {},
   "outputs": [
    {
     "name": "stdout",
     "output_type": "stream",
     "text": [
      "        MINE_ID CONTROLLER_ID                           CONTROLLER_NAME  \\\n",
      "10394   4608786       0091855  Jillean L  Justice; James C  Justice lll   \n",
      "39088   4608786       0091855  Jillean L  Justice; James C  Justice lll   \n",
      "140030  4608786       0091855  Jillean L  Justice; James C  Justice lll   \n",
      "\n",
      "       OPERATOR_ID              OPERATOR_NAME CONTRACTOR_ID   DOCUMENT_NO  \\\n",
      "10394      0095328  Nufac Mining Company, Inc           NaN  220172510016   \n",
      "39088      0095328  Nufac Mining Company, Inc           NaN  220172370006   \n",
      "140030     0095328  Nufac Mining Company, Inc           NaN  220181620044   \n",
      "\n",
      "        SUBUNIT_CD      SUBUNIT ACCIDENT_DT  ...  TRANS_TERM  \\\n",
      "10394            1  UNDERGROUND  2017-08-28  ...           N   \n",
      "39088            1  UNDERGROUND  2017-08-14  ...           Y   \n",
      "140030           1  UNDERGROUND  2018-06-01  ...           N   \n",
      "\n",
      "        RETURN_TO_WORK_DT  IMMED_NOTIFY_CD    IMMED_NOTIFY  INVEST_BEGIN_DT  \\\n",
      "10394          09/05/2017               ?   NO VALUE FOUND              NaN   \n",
      "39088          08/16/2017               ?   NO VALUE FOUND       08/14/2017   \n",
      "140030         06/02/2018               ?   NO VALUE FOUND              NaN   \n",
      "\n",
      "                                                NARRATIVE CLOSED_DOC_NO  \\\n",
      "10394   Employee had finished bolting No. 2 Left, and ...  3.201729e+11   \n",
      "39088   EE was tramming the scoop, the bucket of the s...           NaN   \n",
      "140030  Was installing a shear jack on the 14-15 CM. H...           NaN   \n",
      "\n",
      "        COAL_METAL_IND delinquent_date delinquent  \n",
      "10394                C      2018-01-10          0  \n",
      "39088                C      2018-01-10          0  \n",
      "140030               C      2018-01-10          1  \n",
      "\n",
      "[3 rows x 59 columns]\n"
     ]
    }
   ],
   "source": [
    "#print(hrs_data[hrs_data['MINE_ID'] == 4604734])\n",
    "print(injuries[injuries['MINE_ID'] == 4608786])\n",
    "#print(injuries.columns)"
   ]
  },
  {
   "cell_type": "code",
   "execution_count": 316,
   "metadata": {},
   "outputs": [
    {
     "name": "stdout",
     "output_type": "stream",
     "text": [
      "*****All Coal Mines*****\n",
      "All coal mines: 3.83\n",
      "All delinquent coal mines: 4.45\n",
      "All nondelinquent coal mines: 3.38\n",
      "\n",
      "Justice coal mines: 3.3\n",
      "Justice delinquent coal mines: 3.35\n",
      "Justice nondelinquent coal mines: 3.49\n",
      "\n",
      "*****Underground Coal Mines*****\n",
      "All underground coal mines: 5.41\n",
      "All delinquent, underground coal mines: 6.5\n",
      "All nondelinquent, underground coal mines: 4.97\n",
      "\n",
      "Justice underground coal mines: 5.24\n",
      "Justice delinquent, underground coal mines: 5.65\n",
      "Justice nondelinquent, underground coal mines: 2.75\n",
      "\n",
      "*****Surface Coal Mines*****\n",
      "All surface coal mines: 1.77\n",
      "All delinquent, surface coal mines: 2.94\n",
      "All nondelinquent, surface coal mines: 1.67\n",
      "\n",
      "Justice surface coal mines: 2.54\n",
      "Justice delinquent, surface coal mines: 2.74\n",
      "Justice nondelinquent, surface coal mines: 2.32\n",
      "\n",
      "*****Facility Coal Mines*****\n",
      "All facility coal mines: 3.77\n",
      "All delinquent, facility coal mines: 3.78\n",
      "All nondelinquent, facility coal mines: 3.72\n",
      "\n",
      "Justice facility coal mines: 3.3\n",
      "Justice delinquent, facility coal mines: 3.36\n",
      "Justice nondelinquent, facility coal mines: nan\n"
     ]
    }
   ],
   "source": [
    "justice_current_mines = mine_data[mine_data['curr_ctrlr_id'].isin(['0091855','C04355'])]\n",
    "#since all justice mines are coal mines, we'll just be comparing them against national\n",
    "#coal mine stats\n",
    "\n",
    "print('*****All Coal Mines*****')\n",
    "filter_mines(mine_data,'C', '', '', 'All', 'All coal mines')\n",
    "filter_mines(mine_data,'C', '', '', 'Delinquent', 'All delinquent coal mines')\n",
    "filter_mines(mine_data,'C', '', '', 'Nondelinquent', 'All nondelinquent coal mines')\n",
    "print('')\n",
    "filter_mines(justice_current_mines,'C', '', '', 'All', 'Justice coal mines')\n",
    "filter_mines(justice_current_mines,'C', '', '', 'Delinquent', 'Justice delinquent coal mines')\n",
    "filter_mines(justice_current_mines,'C', '', '', 'Nondelinquent', 'Justice nondelinquent coal mines')\n",
    "\n",
    "print('')\n",
    "\n",
    "print('*****Underground Coal Mines*****')\n",
    "filter_mines(mine_data,'C', 'Underground', '', 'All', 'All underground coal mines')\n",
    "filter_mines(mine_data,'C', 'Underground', '', 'Delinquent', 'All delinquent, underground coal mines')\n",
    "filter_mines(mine_data,'C', 'Underground', '', 'Nondelinquent', 'All nondelinquent, underground coal mines')\n",
    "print('')\n",
    "filter_mines(justice_current_mines,'C', 'Underground', '', 'All', 'Justice underground coal mines')\n",
    "filter_mines(justice_current_mines,'C', 'Underground', '', 'Delinquent', 'Justice delinquent, underground coal mines')\n",
    "filter_mines(justice_current_mines,'C', 'Underground', '', 'Nondelinquent', 'Justice nondelinquent, underground coal mines')\n",
    "\n",
    "print('')\n",
    "\n",
    "print('*****Surface Coal Mines*****')\n",
    "filter_mines(mine_data,'C', 'Surface', '', 'All', 'All surface coal mines')\n",
    "filter_mines(mine_data,'C', 'Surface', '', 'Delinquent', 'All delinquent, surface coal mines')\n",
    "filter_mines(mine_data,'C', 'Surface', '', 'Nondelinquent', 'All nondelinquent, surface coal mines')\n",
    "print('')\n",
    "filter_mines(justice_current_mines,'C', 'Surface', '', 'All', 'Justice surface coal mines')\n",
    "filter_mines(justice_current_mines,'C', 'Surface', '', 'Delinquent', 'Justice delinquent, surface coal mines')\n",
    "filter_mines(justice_current_mines,'C', 'Surface', '', 'Nondelinquent', 'Justice nondelinquent, surface coal mines')\n",
    "\n",
    "print('')\n",
    "\n",
    "print('*****Facility Coal Mines*****')\n",
    "filter_mines(mine_data,'C', 'Facility', '', 'All', 'All facility coal mines')\n",
    "filter_mines(mine_data,'C', 'Facility', '', 'Delinquent', 'All delinquent, facility coal mines')\n",
    "filter_mines(mine_data,'C', 'Facility', '', 'Nondelinquent', 'All nondelinquent, facility coal mines')\n",
    "print('')\n",
    "filter_mines(justice_current_mines,'C', 'Facility', '', 'All', 'Justice facility coal mines')\n",
    "filter_mines(justice_current_mines,'C', 'Facility', '', 'Delinquent', 'Justice delinquent, facility coal mines')\n",
    "filter_mines(justice_current_mines,'C', 'Facility', '', 'Nondelinquent', 'Justice nondelinquent, facility coal mines')\n"
   ]
  },
  {
   "cell_type": "markdown",
   "metadata": {},
   "source": [
    "## Violation analysis at delinquent mines\n",
    "What kinds of violations are they getting. Why should people care? Are most S&S? Are most likely to cause an accident?"
   ]
  },
  {
   "cell_type": "markdown",
   "metadata": {},
   "source": [
    "### How many delinquent violations have there been since 2000"
   ]
  },
  {
   "cell_type": "code",
   "execution_count": 427,
   "metadata": {},
   "outputs": [
    {
     "name": "stdout",
     "output_type": "stream",
     "text": [
      "171838\n"
     ]
    }
   ],
   "source": [
    "del_violations = violations[violations['delinquent'] == 1]\n",
    "print(del_violations['VIOLATION_NO'].nunique())"
   ]
  },
  {
   "cell_type": "markdown",
   "metadata": {},
   "source": [
    "## Justice delinquent violations"
   ]
  },
  {
   "cell_type": "code",
   "execution_count": 534,
   "metadata": {},
   "outputs": [
    {
     "name": "stderr",
     "output_type": "stream",
     "text": [
      "/Users/akanik/.virtualenvs/code-FVmSw4CU/lib/python3.7/site-packages/ipykernel_launcher.py:5: SettingWithCopyWarning: \n",
      "A value is trying to be set on a copy of a slice from a DataFrame.\n",
      "Try using .loc[row_indexer,col_indexer] = value instead\n",
      "\n",
      "See the caveats in the documentation: http://pandas.pydata.org/pandas-docs/stable/indexing.html#indexing-view-versus-copy\n",
      "  \"\"\"\n",
      "/Users/akanik/.virtualenvs/code-FVmSw4CU/lib/python3.7/site-packages/ipykernel_launcher.py:6: SettingWithCopyWarning: \n",
      "A value is trying to be set on a copy of a slice from a DataFrame.\n",
      "Try using .loc[row_indexer,col_indexer] = value instead\n",
      "\n",
      "See the caveats in the documentation: http://pandas.pydata.org/pandas-docs/stable/indexing.html#indexing-view-versus-copy\n",
      "  \n"
     ]
    }
   ],
   "source": [
    "justice_viols = violations[violations['CONTROLLER_ID'].isin(['0091855','C04355'])]\n",
    "justice_delinquencies = delinquency_data[delinquency_data['dba_ctrlr_id'].isin(['0091855','C04355'])]\n",
    "justice_earliest_series = justice_delinquencies.groupby('mine_id')['delinquent_date'].agg('min')\n",
    "\n",
    "justice_viols['justice_delinquent_date'] = justice_viols['MINE_ID'].map(justice_earliest_series)\n",
    "justice_viols['justice_delinquent'] = np.where(justice_viols['VIOLATION_ISSUE_DT'] > justice_viols['justice_delinquent_date'],1,0)"
   ]
  },
  {
   "cell_type": "code",
   "execution_count": 564,
   "metadata": {},
   "outputs": [
    {
     "name": "stdout",
     "output_type": "stream",
     "text": [
      "2009.0\n",
      "2019.0\n"
     ]
    }
   ],
   "source": [
    "del_justice_viols = justice_viols[justice_viols['justice_delinquent'] == 1]\n",
    "print(del_justice_viols.CAL_YR.min())\n",
    "print(del_justice_viols.CAL_YR.max())\n",
    "\n",
    "\n",
    "\n",
    "#justice_107a = del_justice_viols[del_justice_viols['SECTION_OF_ACT_1'] == '107(a)']\n",
    "\n",
    "#print(justice_107a[['SIG_SUB','PART_SECTION','SECTION_OF_ACT_1','LIKELIHOOD','CIT_ORD_SAFE','NEGLIGENCE','CONTROLLER_NAME']])\n",
    "\n",
    "#print(del_justice_viols.info())\n",
    "#print(del_justice_viols.VIOLATION_NO.nunique())\n",
    "#print(del_justice_viols.groupby(['CIT_ORD_SAFE','SECTION_OF_ACT'])['VIOLATION_NO'].nunique())\n",
    "#print(del_justice_viols.groupby(['CIT_ORD_SAFE','SECTION_OF_ACT_1'])['VIOLATION_NO'].nunique())\n",
    "#print(del_justice_viols.groupby('PART_SECTION')['VIOLATION_NO'].nunique().reset_index().sort_values('VIOLATION_NO',ascending=False))\n"
   ]
  },
  {
   "cell_type": "markdown",
   "metadata": {},
   "source": [
    "### How many delinquent violations of different types have there been since 2000"
   ]
  },
  {
   "cell_type": "code",
   "execution_count": 495,
   "metadata": {},
   "outputs": [
    {
     "name": "stdout",
     "output_type": "stream",
     "text": [
      "  SECTION_OF_ACT_1  VIOLATION_NO\n",
      "0           103(j)            11\n",
      "1           103(k)           817\n",
      "2           104(a)        161665\n",
      "3           104(b)          3261\n",
      "4        104(d)(1)          1958\n",
      "5        104(d)(2)          1487\n",
      "6        104(g)(1)          1397\n",
      "7           107(a)           452\n",
      "8           314(b)           790\n"
     ]
    }
   ],
   "source": [
    "#print(del_violations.columns)\n",
    "del_viol_by_type = del_violations.groupby('SECTION_OF_ACT_1')['VIOLATION_NO'].nunique().reset_index()\n",
    "print(del_viol_by_type)\n",
    "#print(del_violations.info())\n",
    "\n"
   ]
  },
  {
   "cell_type": "markdown",
   "metadata": {},
   "source": [
    "### What types of delinquent violation negligence have been reported"
   ]
  },
  {
   "cell_type": "code",
   "execution_count": 266,
   "metadata": {},
   "outputs": [
    {
     "name": "stdout",
     "output_type": "stream",
     "text": [
      "NEGLIGENCE\n",
      "HighNegligence     14798\n",
      "LowNegligence      23428\n",
      "ModNegligence     127759\n",
      "NoNegligence         190\n",
      "Reckless             344\n",
      "Name: VIOLATION_NO, dtype: int64\n",
      "LIKELIHOOD\n",
      "Highly            1246\n",
      "NoLikelihood      9741\n",
      "Occurred           297\n",
      "Reasonably       49078\n",
      "Unlikely        106156\n",
      "Name: VIOLATION_NO, dtype: int64\n",
      "SIG_SUB\n",
      "N    116096\n",
      "Y     50444\n",
      "Name: VIOLATION_NO, dtype: int64\n"
     ]
    }
   ],
   "source": [
    "del_violations_by_neg = del_violations.groupby('NEGLIGENCE')['VIOLATION_NO'].nunique()\n",
    "del_violations_by_likelihood = del_violations.groupby('LIKELIHOOD')['VIOLATION_NO'].nunique()\n",
    "del_violations_by_sns = del_violations.groupby('SIG_SUB')['VIOLATION_NO'].nunique()\n",
    "print(del_violations_by_neg)\n",
    "print(del_violations_by_likelihood)\n",
    "print(del_violations_by_sns)"
   ]
  },
  {
   "cell_type": "markdown",
   "metadata": {},
   "source": [
    "## How many delinquent injuries have there been, of different kinds, since 2000"
   ]
  },
  {
   "cell_type": "code",
   "execution_count": 244,
   "metadata": {},
   "outputs": [
    {
     "name": "stdout",
     "output_type": "stream",
     "text": [
      "Serious injuries: 4002\n",
      "DEGREE_INJURY                   DEGREE_INJURY_CD\n",
      "ALL OTHER CASES (INCL 1ST AID)  10                    37\n",
      "DAYS AWAY FROM WORK ONLY        03                  2741\n",
      "DAYS RESTRICTED ACTIVITY ONLY   05                   796\n",
      "DYS AWY FRM WRK & RESTRCTD ACT  04                   394\n",
      "FATALITY                        01                    23\n",
      "NO DYS AWY FRM WRK,NO RSTR ACT  06                  1535\n",
      "OCCUPATNAL ILLNESS NOT DEG 1-6  07                   267\n",
      "PERM TOT OR PERM PRTL DISABLTY  02                    48\n",
      "Name: DOCUMENT_NO, dtype: int64\n"
     ]
    }
   ],
   "source": [
    "del_injuries = injuries[injuries['delinquent'] == 1]\n",
    "fatal_del_injuries = del_injuries[del_injuries['DEGREE_INJURY_CD'] == '01']\n",
    "serious_injuries = del_injuries[del_injuries['DEGREE_INJURY_CD'].isin(['03','04','05','01','02'])]\n",
    "\n",
    "print('Serious injuries: ' + str(len(serious_injuries)))\n",
    "print(del_injuries.groupby(['DEGREE_INJURY','DEGREE_INJURY_CD'])['DOCUMENT_NO'].nunique())"
   ]
  },
  {
   "cell_type": "markdown",
   "metadata": {},
   "source": [
    "## Spend some time investigating how the Debt By Age doc is compiled from the Assessed Violations dataset\n",
    "I'm pretty sure you need to group assessed violations on at least `ASSESS_CASE_NO` and `EVENT_NO`. I've added `VIOLATOR_ID` to add clarity and because I don't think you should have a single delinquency record that applies to multiple violators. Defies all we know about delinquencies."
   ]
  },
  {
   "cell_type": "code",
   "execution_count": 462,
   "metadata": {},
   "outputs": [],
   "source": [
    "ass_viol_grouped = ass_violations.groupby(['ASSESS_CASE_NO','EVENT_NO','VIOLATOR_ID']).agg({'VIOLATION_NO':'nunique',\n",
    "                                                                                           'OCCURRENCE_DT':'nunique',\n",
    "                                                                                           'PROPOSED_PENALTY_AMT':'sum',\n",
    "                                                                                           'CURRENT_ASSESSMENT_AMT':'sum',\n",
    "                                                                                           'MINEACT_INTEREST_AMT':'sum',\n",
    "                                                                                           'EXLATE_INTEREST_AMT':'sum',\n",
    "                                                                                           'PAID_PROPOSED_PENALTY_AMT':'sum',\n",
    "                                                                                           'PAID_MINEACT_INTEREST_AMT':'sum',\n",
    "                                                                                           'PAID_EXLATE_INTEREST_AMT':'sum',\n",
    "                                                                                           'DELINQUENT_DT':'nunique'}).reset_index()\n",
    "\n",
    "ass_viol_grouped = ass_viol_grouped[ass_viol_grouped['DELINQUENT_DT'] > 0]\n",
    "ass_viol_grouped.to_csv(data_dir + 'analysis/ass-violations-grouped.csv')"
   ]
  },
  {
   "cell_type": "code",
   "execution_count": 494,
   "metadata": {},
   "outputs": [
    {
     "name": "stdout",
     "output_type": "stream",
     "text": [
      "     catod_oper_id catod_ctrlr_id catod_ctrlr_start_dt catod_ctrlr_end_dt  \\\n",
      "5213       0099325         C14751           2009-02-27         2009-09-13   \n",
      "\n",
      "              catod_oper_nm ass_case_nbr    mine_id delinquent_date  \\\n",
      "5213  Nine Mile Mining Inc.    000183984  4407252.0      2009-06-06   \n",
      "\n",
      "      ending_balance  curr_mine_nm  ... curr_stat_dt curr_ctrlr_id  \\\n",
      "5213          342.01  Nine Mile #1  ...   16-10-2018       0091855   \n",
      "\n",
      "                                 curr_ctrlr_nm curr_oper_id  \\\n",
      "5213  Jillean L  Justice; James C  Justice lll      0099325   \n",
      "\n",
      "                curr_oper_nm state_abbr fips_cnty_nm curr_ownr_beg_dt  \\\n",
      "5213  Nine Mile Mining, Inc.         VA         Wise       26-01-2011   \n",
      "\n",
      "     dba_ctrlr_id                              dba_ctrlr_nm  \n",
      "5213      0091855  James C  Justice lll; Jillian L  Justice  \n",
      "\n",
      "[1 rows x 23 columns]\n"
     ]
    }
   ],
   "source": [
    "print(del_data_joined[del_data_joined['ass_case_nbr'] == '000183984'])"
   ]
  },
  {
   "cell_type": "code",
   "execution_count": 492,
   "metadata": {},
   "outputs": [
    {
     "name": "stdout",
     "output_type": "stream",
     "text": [
      "        EVENT_NO  VIOLATION_NO    MINE_ID VIOLATOR_ID       VIOLATOR_NAME  \\\n",
      "1215447  4230392     7502862.0  1518994.0     0051884  Liggett Mining LLC   \n",
      "\n",
      "        VIOLATOR_TYPE_CD COAL_METAL_IND OFFICE_CD ASSESS_CASE_NO  \\\n",
      "1215447         Operator              C     C0702      000149549   \n",
      "\n",
      "        PRIMARY_ACTION_CD  ... MINE_SIZE_POINTS CONTROLLER_HRS  \\\n",
      "1215447            104(a)  ...              9.0            0.0   \n",
      "\n",
      "        CONTROLLER_PRODUCTION_AMT SIZE_OF_CONTROLLING_ENTITY  \\\n",
      "1215447                 1061521.0                  1061521.0   \n",
      "\n",
      "        CONTROLLER_SIZE_POINTS DELINQUENT_DT HISTORY_START_DT HISTORY_END_DT  \\\n",
      "1215447                    8.0    2009-12-29       05/10/2006     06/05/2007   \n",
      "\n",
      "        VIOLATOR_START_DT VIOLATOR_END_DT  \n",
      "1215447        05/10/2006      09/09/9999  \n",
      "\n",
      "[1 rows x 58 columns]\n"
     ]
    }
   ],
   "source": [
    "#print(ass_violations.columns)\n",
    "print(ass_violations[ass_violations['ASSESS_CASE_NO'] == '000149549'])\n",
    "#print(ass_violations[ass_violations['ASSESS_CASE_NO'] == '00035169']['DELINQUENT_DT'].max())\n",
    "#print(ass_violations.info(verbose=True, null_counts=True))"
   ]
  },
  {
   "cell_type": "code",
   "execution_count": 493,
   "metadata": {},
   "outputs": [
    {
     "name": "stdout",
     "output_type": "stream",
     "text": [
      "       EVENT_NO INSPECTION_BEGIN_DT INSPECTION_END_DT  VIOLATION_NO  \\\n",
      "656120  4230392          04/11/2007        06/30/2007     7502862.0   \n",
      "\n",
      "       CONTROLLER_ID   CONTROLLER_NAME VIOLATOR_ID       VIOLATOR_NAME  \\\n",
      "656120        C12998  Stanley R  Ditty     0051884  Liggett Mining LLC   \n",
      "\n",
      "       VIOLATOR_TYPE_CD    MINE_ID  ... LAST_ACTION_CD LAST_ACTION_DT  \\\n",
      "656120         Operator  1518994.0  ...       Treasury     04/05/2012   \n",
      "\n",
      "             DOCKET_NO DOCKET_STATUS_CD CONTESTED_IND CONTESTED_DT  \\\n",
      "656120  KENT 2008-1050         Accepted             Y   05/21/2008   \n",
      "\n",
      "        VIOLATOR_VIOLATION_CNT  VIOLATOR_INSPECTION_DAY_CNT  delinquent_date  \\\n",
      "656120                    51.0                         73.0       2009-12-29   \n",
      "\n",
      "        delinquent  \n",
      "656120           0  \n",
      "\n",
      "[1 rows x 63 columns]\n"
     ]
    }
   ],
   "source": [
    "print(violations[violations['VIOLATION_NO'] == 7502862])"
   ]
  },
  {
   "cell_type": "code",
   "execution_count": 481,
   "metadata": {},
   "outputs": [
    {
     "name": "stdout",
     "output_type": "stream",
     "text": [
      "Index(['ass_case_nbr', 'mine_id', 'violator_id', 'violator_nm',\n",
      "       'violator_type', 'dba_ctrlr_id', 'dba_ctrlr_nm', 'age_cateogry',\n",
      "       'delinquent_date', 'delinquent_type', 'ending_balance', 'year',\n",
      "       'month'],\n",
      "      dtype='object')\n"
     ]
    }
   ],
   "source": [
    "print(delinquency_data.columns)\n",
    "justice_viol_inspection_no = violations[violations['CONTROLLER_ID'].isin(['C04355','0091855'])]['VIOLATION_NO'].unique()\n",
    "justice_ass_viol_cases = ass_violations[ass_violations['VIOLATION_NO'].isin(justice_viol_inspection_no)]\n",
    "justice_ass_grouped = justice_ass_viol_cases.groupby(['ASSESS_CASE_NO','EVENT_NO','VIOLATOR_ID']).agg({'VIOLATION_NO':'nunique',\n",
    "                                                                                           'OCCURRENCE_DT':'nunique',\n",
    "                                                                                           'PROPOSED_PENALTY_AMT':'sum',\n",
    "                                                                                           'CURRENT_ASSESSMENT_AMT':'sum',\n",
    "                                                                                           'MINEACT_INTEREST_AMT':'sum',\n",
    "                                                                                           'EXLATE_INTEREST_AMT':'sum',\n",
    "                                                                                           'PAID_PROPOSED_PENALTY_AMT':'sum',\n",
    "                                                                                           'PAID_MINEACT_INTEREST_AMT':'sum',\n",
    "                                                                                           'PAID_EXLATE_INTEREST_AMT':'sum',\n",
    "                                                                                           'DELINQUENT_DT':'nunique'}).reset_index()\n",
    "\n",
    "justice_del = delinquency_data[delinquency_data['dba_ctrlr_id'].isin(['C04355','0091855'])]\n",
    "\n",
    "ass_viol_grouped_case_nos = ass_violations[['ASSESS_CASE_NO']].drop_duplicates()\n",
    "justice_ass_grouped_case_nos = justice_ass_grouped[['ASSESS_CASE_NO']].drop_duplicates()\n",
    "justice_del = justice_del[['ass_case_nbr']].drop_duplicates()\n",
    "\n",
    "justice_del_ass_join = justice_del.merge(justice_ass_grouped_case_nos, how='left', left_on='ass_case_nbr', right_on='ASSESS_CASE_NO')\n",
    "justice_del_ass_join_all = justice_del_ass_join.merge(ass_viol_grouped_case_nos, \n",
    "                                                      how='left', \n",
    "                                                      left_on='ass_case_nbr', \n",
    "                                                      right_on='ASSESS_CASE_NO',\n",
    "                                                     suffixes=('_justice','_all'))\n",
    "justice_del_ass_join_all.to_csv(data_dir + 'analysis/justice/justice-ass-del-join-check.csv')\n",
    "\n",
    "#justice_ass_viol_cases.to_csv(data_dir + 'analysis/justice/justice-viols-from-ass-viols.csv')\n",
    "#justice_ass_grouped.to_csv(data_dir + 'analysis/justice/justice-ass-viols-grouped.csv')\n",
    "#print(len(justice_ass_grouped))"
   ]
  },
  {
   "cell_type": "code",
   "execution_count": null,
   "metadata": {},
   "outputs": [],
   "source": []
  }
 ],
 "metadata": {
  "kernelspec": {
   "display_name": "Python 3",
   "language": "python",
   "name": "python3"
  },
  "language_info": {
   "codemirror_mode": {
    "name": "ipython",
    "version": 3
   },
   "file_extension": ".py",
   "mimetype": "text/x-python",
   "name": "python",
   "nbconvert_exporter": "python",
   "pygments_lexer": "ipython3",
   "version": "3.7.2"
  }
 },
 "nbformat": 4,
 "nbformat_minor": 2
}
